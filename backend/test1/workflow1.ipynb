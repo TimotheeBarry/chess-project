{
 "cells": [
  {
   "cell_type": "markdown",
   "metadata": {},
   "source": [
    "### Build Dataset"
   ]
  },
  {
   "cell_type": "code",
   "execution_count": 15,
   "metadata": {},
   "outputs": [
    {
     "name": "stdout",
     "output_type": "stream",
     "text": [
      "1563\n"
     ]
    },
    {
     "data": {
      "text/html": [
       "<div>\n",
       "<style scoped>\n",
       "    .dataframe tbody tr th:only-of-type {\n",
       "        vertical-align: middle;\n",
       "    }\n",
       "\n",
       "    .dataframe tbody tr th {\n",
       "        vertical-align: top;\n",
       "    }\n",
       "\n",
       "    .dataframe thead th {\n",
       "        text-align: right;\n",
       "    }\n",
       "</style>\n",
       "<table border=\"1\" class=\"dataframe\">\n",
       "  <thead>\n",
       "    <tr style=\"text-align: right;\">\n",
       "      <th></th>\n",
       "      <th>eval</th>\n",
       "    </tr>\n",
       "  </thead>\n",
       "  <tbody>\n",
       "    <tr>\n",
       "      <th>count</th>\n",
       "      <td>50000.000000</td>\n",
       "    </tr>\n",
       "    <tr>\n",
       "      <th>mean</th>\n",
       "      <td>10.446272</td>\n",
       "    </tr>\n",
       "    <tr>\n",
       "      <th>std</th>\n",
       "      <td>257.202991</td>\n",
       "    </tr>\n",
       "    <tr>\n",
       "      <th>min</th>\n",
       "      <td>-999.990000</td>\n",
       "    </tr>\n",
       "    <tr>\n",
       "      <th>25%</th>\n",
       "      <td>-0.990000</td>\n",
       "    </tr>\n",
       "    <tr>\n",
       "      <th>50%</th>\n",
       "      <td>0.060000</td>\n",
       "    </tr>\n",
       "    <tr>\n",
       "      <th>75%</th>\n",
       "      <td>1.510000</td>\n",
       "    </tr>\n",
       "    <tr>\n",
       "      <th>max</th>\n",
       "      <td>999.990000</td>\n",
       "    </tr>\n",
       "  </tbody>\n",
       "</table>\n",
       "</div>"
      ],
      "text/plain": [
       "               eval\n",
       "count  50000.000000\n",
       "mean      10.446272\n",
       "std      257.202991\n",
       "min     -999.990000\n",
       "25%       -0.990000\n",
       "50%        0.060000\n",
       "75%        1.510000\n",
       "max      999.990000"
      ]
     },
     "execution_count": 15,
     "metadata": {},
     "output_type": "execute_result"
    }
   ],
   "source": [
    "import pandas as pd\n",
    "import os\n",
    "import numpy as np\n",
    "import tensorflow as tf\n",
    "from utils.build_dataset import build_dataset\n",
    "\n",
    "file_name = 'data_test.csv'\n",
    "file_path = os.path.join('data', 'csv_positions', file_name)\n",
    "\n",
    "dataset, x, y, dataframe = build_dataset(file_path, 50000, 32)\n",
    "\n",
    "print(dataset.cardinality().numpy())\n",
    "dataframe.describe()\n"
   ]
  },
  {
   "cell_type": "code",
   "execution_count": 16,
   "metadata": {},
   "outputs": [],
   "source": [
    "from utils.build_dataset import split_dataset\n",
    "\n",
    "train_dataset, test_dataset = split_dataset(dataset, 0.8)"
   ]
  },
  {
   "cell_type": "markdown",
   "metadata": {},
   "source": [
    "### Import Model"
   ]
  },
  {
   "cell_type": "code",
   "execution_count": 17,
   "metadata": {},
   "outputs": [
    {
     "name": "stdout",
     "output_type": "stream",
     "text": [
      "Model: \"sequential_2\"\n",
      "_________________________________________________________________\n",
      " Layer (type)                Output Shape              Param #   \n",
      "=================================================================\n",
      " conv2d_6 (Conv2D)           (None, 6, 6, 32)          1760      \n",
      "                                                                 \n",
      " conv2d_7 (Conv2D)           (None, 4, 4, 64)          18496     \n",
      "                                                                 \n",
      " conv2d_8 (Conv2D)           (None, 2, 2, 64)          36928     \n",
      "                                                                 \n",
      " flatten_2 (Flatten)         (None, 256)               0         \n",
      "                                                                 \n",
      " dense_4 (Dense)             (None, 64)                16448     \n",
      "                                                                 \n",
      " dense_5 (Dense)             (None, 1)                 65        \n",
      "                                                                 \n",
      "=================================================================\n",
      "Total params: 73697 (287.88 KB)\n",
      "Trainable params: 73697 (287.88 KB)\n",
      "Non-trainable params: 0 (0.00 Byte)\n",
      "_________________________________________________________________\n"
     ]
    }
   ],
   "source": [
    "import tensorflow as tf\n",
    "from model.models import ChessModel\n",
    "\n",
    "model = ChessModel(nb_filters=32, activation= 'tanh', input_shape=(8,8,6)).model\n",
    "\n",
    "model.compile(optimizer='adam', loss='mean_absolute_error', metrics=['mae'])\n",
    "\n",
    "model.summary()"
   ]
  },
  {
   "cell_type": "markdown",
   "metadata": {},
   "source": [
    "### Callbacks"
   ]
  },
  {
   "cell_type": "code",
   "execution_count": 6,
   "metadata": {},
   "outputs": [],
   "source": [
    "import os\n",
    "from utils.callback_setup import callback_setup\n",
    "\n",
    "checkpoint_name = \"test2/\"\n",
    "checkpoint_filepath = os.path.join('data', 'backup', checkpoint_name)\n",
    "\n",
    "model_callbacks = callback_setup(checkpoint_filepath)\n",
    "\n"
   ]
  },
  {
   "cell_type": "code",
   "execution_count": 18,
   "metadata": {},
   "outputs": [
    {
     "name": "stdout",
     "output_type": "stream",
     "text": [
      "Epoch 1/50\n"
     ]
    },
    {
     "name": "stdout",
     "output_type": "stream",
     "text": [
      "1250/1250 [==============================] - 6s 4ms/step - loss: 69.8717 - mae: 69.8717 - val_loss: 70.2614 - val_mae: 70.2614\n",
      "Epoch 2/50\n",
      "1250/1250 [==============================] - 6s 5ms/step - loss: 69.8605 - mae: 69.8605 - val_loss: 70.2620 - val_mae: 70.2620\n",
      "Epoch 3/50\n",
      "1250/1250 [==============================] - 8s 6ms/step - loss: 69.8611 - mae: 69.8611 - val_loss: 70.2622 - val_mae: 70.2622\n",
      "Epoch 4/50\n",
      "1250/1250 [==============================] - 6s 5ms/step - loss: 69.8614 - mae: 69.8614 - val_loss: 70.2633 - val_mae: 70.2633\n",
      "Epoch 5/50\n",
      "1250/1250 [==============================] - 6s 4ms/step - loss: 69.8606 - mae: 69.8606 - val_loss: 70.2636 - val_mae: 70.2636\n",
      "Epoch 6/50\n",
      "1250/1250 [==============================] - 6s 5ms/step - loss: 69.8607 - mae: 69.8607 - val_loss: 70.2626 - val_mae: 70.2626\n",
      "Epoch 7/50\n",
      "1250/1250 [==============================] - 5s 4ms/step - loss: 69.8606 - mae: 69.8606 - val_loss: 70.2627 - val_mae: 70.2627\n",
      "Epoch 8/50\n",
      "1250/1250 [==============================] - 5s 4ms/step - loss: 69.8606 - mae: 69.8606 - val_loss: 70.2625 - val_mae: 70.2625\n",
      "Epoch 9/50\n",
      "1250/1250 [==============================] - 5s 4ms/step - loss: 69.8607 - mae: 69.8607 - val_loss: 70.2618 - val_mae: 70.2618\n",
      "Epoch 10/50\n",
      "1250/1250 [==============================] - 5s 4ms/step - loss: 69.8612 - mae: 69.8612 - val_loss: 70.2624 - val_mae: 70.2624\n",
      "Epoch 11/50\n",
      "1250/1250 [==============================] - 5s 4ms/step - loss: 69.8606 - mae: 69.8606 - val_loss: 70.2626 - val_mae: 70.2626\n",
      "Epoch 12/50\n",
      "1250/1250 [==============================] - 5s 4ms/step - loss: 69.8607 - mae: 69.8607 - val_loss: 70.2624 - val_mae: 70.2624\n",
      "Epoch 13/50\n",
      "1250/1250 [==============================] - 6s 4ms/step - loss: 69.8607 - mae: 69.8607 - val_loss: 70.2640 - val_mae: 70.2640\n",
      "Epoch 14/50\n",
      "1250/1250 [==============================] - 6s 5ms/step - loss: 69.8609 - mae: 69.8609 - val_loss: 70.2704 - val_mae: 70.2704\n",
      "Epoch 15/50\n",
      "1250/1250 [==============================] - 6s 5ms/step - loss: 69.8610 - mae: 69.8610 - val_loss: 70.2622 - val_mae: 70.2622\n",
      "Epoch 16/50\n",
      "1250/1250 [==============================] - 5s 4ms/step - loss: 69.8606 - mae: 69.8606 - val_loss: 70.2625 - val_mae: 70.2625\n",
      "Epoch 17/50\n",
      "1250/1250 [==============================] - 6s 4ms/step - loss: 69.8606 - mae: 69.8606 - val_loss: 70.2620 - val_mae: 70.2620\n",
      "Epoch 18/50\n",
      "1250/1250 [==============================] - 5s 4ms/step - loss: 69.8607 - mae: 69.8607 - val_loss: 70.2640 - val_mae: 70.2640\n",
      "Epoch 19/50\n",
      "1250/1250 [==============================] - 6s 5ms/step - loss: 69.8607 - mae: 69.8607 - val_loss: 70.2616 - val_mae: 70.2616\n",
      "Epoch 20/50\n",
      "1250/1250 [==============================] - 6s 5ms/step - loss: 69.8606 - mae: 69.8606 - val_loss: 70.2620 - val_mae: 70.2620\n",
      "Epoch 21/50\n",
      "1250/1250 [==============================] - 5s 4ms/step - loss: 69.8606 - mae: 69.8606 - val_loss: 70.2628 - val_mae: 70.2628\n",
      "Epoch 22/50\n",
      "1250/1250 [==============================] - 6s 5ms/step - loss: 69.8606 - mae: 69.8606 - val_loss: 70.2631 - val_mae: 70.2631\n",
      "Epoch 23/50\n",
      "1250/1250 [==============================] - 6s 5ms/step - loss: 69.8606 - mae: 69.8606 - val_loss: 70.2632 - val_mae: 70.2632\n",
      "Epoch 24/50\n",
      "1250/1250 [==============================] - 6s 4ms/step - loss: 69.8606 - mae: 69.8606 - val_loss: 70.2618 - val_mae: 70.2618\n",
      "Epoch 25/50\n",
      "1250/1250 [==============================] - 6s 4ms/step - loss: 69.8621 - mae: 69.8621 - val_loss: 70.2644 - val_mae: 70.2644\n",
      "Epoch 26/50\n",
      "1250/1250 [==============================] - 5s 4ms/step - loss: 69.8608 - mae: 69.8608 - val_loss: 70.2625 - val_mae: 70.2625\n",
      "Epoch 27/50\n",
      "1250/1250 [==============================] - 5s 4ms/step - loss: 69.8607 - mae: 69.8607 - val_loss: 70.2629 - val_mae: 70.2629\n",
      "Epoch 28/50\n",
      "1250/1250 [==============================] - 5s 4ms/step - loss: 69.8605 - mae: 69.8605 - val_loss: 70.2633 - val_mae: 70.2633\n",
      "Epoch 29/50\n",
      "1250/1250 [==============================] - 5s 4ms/step - loss: 69.8608 - mae: 69.8608 - val_loss: 70.2626 - val_mae: 70.2626\n",
      "Epoch 30/50\n",
      "1250/1250 [==============================] - 5s 4ms/step - loss: 69.8606 - mae: 69.8606 - val_loss: 70.2626 - val_mae: 70.2626\n",
      "Epoch 31/50\n",
      "1250/1250 [==============================] - 5s 4ms/step - loss: 69.8607 - mae: 69.8607 - val_loss: 70.2626 - val_mae: 70.2626\n",
      "Epoch 32/50\n",
      "1250/1250 [==============================] - 5s 4ms/step - loss: 69.8606 - mae: 69.8606 - val_loss: 70.2619 - val_mae: 70.2619\n",
      "Epoch 33/50\n",
      "1250/1250 [==============================] - 6s 5ms/step - loss: 69.8608 - mae: 69.8608 - val_loss: 70.2643 - val_mae: 70.2643\n",
      "Epoch 34/50\n",
      "1250/1250 [==============================] - 6s 5ms/step - loss: 69.8607 - mae: 69.8607 - val_loss: 70.2630 - val_mae: 70.2630\n",
      "Epoch 35/50\n",
      "1250/1250 [==============================] - 6s 5ms/step - loss: 69.8607 - mae: 69.8607 - val_loss: 70.2626 - val_mae: 70.2626\n",
      "Epoch 36/50\n",
      "1250/1250 [==============================] - 6s 5ms/step - loss: 69.8606 - mae: 69.8606 - val_loss: 70.2633 - val_mae: 70.2633\n",
      "Epoch 37/50\n",
      "1250/1250 [==============================] - 6s 5ms/step - loss: 69.8606 - mae: 69.8606 - val_loss: 70.2618 - val_mae: 70.2618\n",
      "Epoch 38/50\n",
      "1250/1250 [==============================] - 6s 5ms/step - loss: 69.8606 - mae: 69.8606 - val_loss: 70.2624 - val_mae: 70.2624\n",
      "Epoch 39/50\n",
      "1250/1250 [==============================] - 5s 4ms/step - loss: 69.8608 - mae: 69.8608 - val_loss: 70.2633 - val_mae: 70.2633\n",
      "Epoch 40/50\n",
      "1250/1250 [==============================] - 6s 5ms/step - loss: 69.8607 - mae: 69.8607 - val_loss: 70.2634 - val_mae: 70.2634\n",
      "Epoch 41/50\n",
      "1250/1250 [==============================] - 6s 4ms/step - loss: 69.8607 - mae: 69.8607 - val_loss: 70.2619 - val_mae: 70.2619\n",
      "Epoch 42/50\n",
      "1250/1250 [==============================] - 6s 4ms/step - loss: 69.8607 - mae: 69.8607 - val_loss: 70.2625 - val_mae: 70.2625\n",
      "Epoch 43/50\n",
      "1250/1250 [==============================] - 6s 4ms/step - loss: 69.8606 - mae: 69.8606 - val_loss: 70.2621 - val_mae: 70.2621\n",
      "Epoch 44/50\n",
      "1250/1250 [==============================] - 5s 4ms/step - loss: 69.8606 - mae: 69.8606 - val_loss: 70.2640 - val_mae: 70.2640\n",
      "Epoch 45/50\n",
      "1250/1250 [==============================] - 6s 4ms/step - loss: 69.8608 - mae: 69.8608 - val_loss: 70.2657 - val_mae: 70.2657\n",
      "Epoch 46/50\n",
      "1250/1250 [==============================] - 6s 5ms/step - loss: 69.8606 - mae: 69.8606 - val_loss: 70.2635 - val_mae: 70.2635\n",
      "Epoch 47/50\n",
      "1250/1250 [==============================] - 6s 5ms/step - loss: 69.8609 - mae: 69.8609 - val_loss: 70.2645 - val_mae: 70.2645\n",
      "Epoch 48/50\n",
      "1250/1250 [==============================] - 6s 5ms/step - loss: 69.8604 - mae: 69.8604 - val_loss: 70.2650 - val_mae: 70.2650\n",
      "Epoch 49/50\n",
      "1250/1250 [==============================] - 6s 5ms/step - loss: 69.8605 - mae: 69.8605 - val_loss: 70.2620 - val_mae: 70.2620\n",
      "Epoch 50/50\n",
      "1250/1250 [==============================] - 6s 4ms/step - loss: 69.8599 - mae: 69.8599 - val_loss: 70.2657 - val_mae: 70.2657\n"
     ]
    }
   ],
   "source": [
    "history = model.fit(train_dataset,\n",
    "                    epochs=50,\n",
    "                    validation_data=(test_dataset),\n",
    "                    verbose=1,\n",
    "                    callbacks=model_callbacks\n",
    "                    )"
   ]
  },
  {
   "cell_type": "code",
   "execution_count": 19,
   "metadata": {},
   "outputs": [
    {
     "data": {
      "image/png": "[encoded data removed]",
      "text/plain": [
       "<Figure size 640x480 with 1 Axes>"
      ]
     },
     "metadata": {},
     "output_type": "display_data"
    }
   ],
   "source": [
    "from utils.plot_loss import plot_loss\n",
    "plot_loss(history.epoch, history.history[\"loss\"], history.history[\"val_loss\"])"
   ]
  },
  {
   "cell_type": "code",
   "execution_count": 20,
   "metadata": {},
   "outputs": [
    {
     "name": "stdout",
     "output_type": "stream",
     "text": [
      "y_eval: [-0.06, 0.4, -0.34, 0.36, -0.43, 0.36, 0.0, 0.16, -0.06, 0.38]\n",
      "1/1 [==============================] - 0s 68ms/step\n",
      "[[0.23810364]\n",
      " [0.23810358]\n",
      " [0.23810308]\n",
      " [0.23810287]\n",
      " [0.2381031 ]\n",
      " [0.23810305]\n",
      " [0.23809783]\n",
      " [0.2380995 ]\n",
      " [0.23810323]\n",
      " [0.23810314]]\n"
     ]
    }
   ],
   "source": [
    "from utils.converter import convert_fen_to_array\n",
    "file_path = 'data/csv_positions/data_test.csv'\n",
    "#load data\n",
    "df = pd.read_csv(file_path)\n",
    "df = df[10:20]\n",
    "\n",
    "x_fen, y_eval = list(df['fen']), list(df['eval'])\n",
    "input_tensor = tf.convert_to_tensor(list(df['fen'].map(convert_fen_to_array).to_numpy()))\n",
    "\n",
    "print('y_eval:',y_eval)\n",
    "\n",
    "output_tensor = model.predict(input_tensor)\n",
    "# print(input_tensor)\n",
    "print(output_tensor)"
   ]
  },
  {
   "cell_type": "code",
   "execution_count": 10,
   "metadata": {},
   "outputs": [],
   "source": [
    "import os\n",
    "checkpoint_name = \"test/\"\n",
    "checkpoint_filepath = os.path.join('data', 'backup', checkpoint_name)\n",
    "if os.path.exists(checkpoint_filepath):\n",
    "    print('load model')\n",
    "    model.load_weights(checkpoint_filepath)"
   ]
  }
 ],
 "metadata": {
  "kernelspec": {
   "display_name": "env",
   "language": "python",
   "name": "python3"
  },
  "language_info": {
   "codemirror_mode": {
    "name": "ipython",
    "version": 3
   },
   "file_extension": ".py",
   "mimetype": "text/x-python",
   "name": "python",
   "nbconvert_exporter": "python",
   "pygments_lexer": "ipython3",
   "version": "3.10.8"
  },
  "orig_nbformat": 4
 },
 "nbformat": 4,
 "nbformat_minor": 2
}
