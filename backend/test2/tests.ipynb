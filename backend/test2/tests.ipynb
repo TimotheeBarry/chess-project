{
 "cells": [
  {
   "cell_type": "code",
   "execution_count": null,
   "metadata": {},
   "outputs": [],
   "source": [
    "from utils.random_board import generate_random_board\n",
    "from utils.stockfish import gest_best_move\n",
    "import os\n",
    "\n",
    "board = generate_random_board()\n",
    "print(board)\n",
    "print(board.legal_moves)\n",
    "move = gest_best_move(board, 10)\n",
    "print(move)\n"
   ]
  },
  {
   "cell_type": "code",
   "execution_count": null,
   "metadata": {},
   "outputs": [],
   "source": [
    "import tensorflow as tf\n",
    "\n",
    "tensor_test = tf.random.uniform((10000,14,8,8), minval=0, maxval=2, dtype=tf.int32)\n",
    "tensor_test_2 = tf.random.uniform((10000,14,8,8), minval=0, maxval=2, dtype=tf.int32)"
   ]
  },
  {
   "cell_type": "code",
   "execution_count": null,
   "metadata": {},
   "outputs": [],
   "source": []
  },
  {
   "cell_type": "code",
   "execution_count": null,
   "metadata": {},
   "outputs": [],
   "source": [
    "import chess\n",
    "import numpy as np\n",
    "\n",
    "def convert_square_to_coordinates(square: chess.Square):\n",
    "    # ex h1 -> (7, 0)\n",
    "    print(square)\n",
    "    return (7 - square // 8, square % 8)\n",
    "\n",
    "print(convert_square_to_coordinates(chess.H1))\n"
   ]
  },
  {
   "cell_type": "code",
   "execution_count": 6,
   "metadata": {},
   "outputs": [],
   "source": [
    "from utils.process_board import convert_board_to_array\n",
    "from utils.random_board import generate_random_board\n",
    "from utils.stockfish import get_score\n",
    "from utils.process_tensors import save_tensor, load_tensor, concat_tensors\n",
    "import numpy as np\n",
    "import tensorflow as tf\n",
    "\n",
    "done = False\n",
    "def generate_data(n=100, N=25, folder_name=''):\n",
    "    save_dir = f\"data/{folder_name}/\"\n",
    "    input_path = save_dir + \"input\"\n",
    "    output_path = save_dir + \"output\"\n",
    "\n",
    "    for k in range(n):\n",
    "        if done:\n",
    "            print('done')\n",
    "            break\n",
    "        input_array = np.zeros((N, 7, 8, 8), dtype=np.int32)\n",
    "        output_array = np.zeros((N,), dtype=np.float32)\n",
    "        for i in range(N):\n",
    "            board = generate_random_board()\n",
    "            input_array[i] = convert_board_to_array(board)\n",
    "            output_array[i] = get_score(board, 10)\n",
    "\n",
    "        input_tensor = tf.convert_to_tensor(input_array)\n",
    "        output_tensor = tf.convert_to_tensor(output_array)\n",
    "        try:\n",
    "            loaded_input = load_tensor(input_path, out_type=tf.int32)\n",
    "            loaded_output = load_tensor(output_path, out_type=tf.float32)\n",
    "\n",
    "            input_tensor = concat_tensors([input_tensor, loaded_input], axis=0)\n",
    "            output_tensor = concat_tensors([output_tensor, loaded_output], axis=0)\n",
    "\n",
    "        except Exception as e:\n",
    "            # print('erreur', e)\n",
    "            pass\n",
    "        save_tensor(input_tensor, input_path)\n",
    "        save_tensor(output_tensor, output_path)\n",
    "        \n",
    "        print(folder_name, (k+1)*N)"
   ]
  },
  {
   "cell_type": "code",
   "execution_count": 7,
   "metadata": {},
   "outputs": [
    {
     "name": "stdout",
     "output_type": "stream",
     "text": [
      "data3 25\n",
      "data4 25\n",
      "data2 25\n",
      "data1 25\n"
     ]
    }
   ],
   "source": [
    "import threading\n",
    "threading.Thread(target=generate_data, args=(4,25, 'data1')).start()\n",
    "threading.Thread(target=generate_data, args=(4,25, 'data2')).start()\n",
    "threading.Thread(target=generate_data, args=(4,25, 'data3')).start()\n",
    "threading.Thread(target=generate_data, args=(4,25, 'data4')).start()"
   ]
  },
  {
   "cell_type": "code",
   "execution_count": 8,
   "metadata": {},
   "outputs": [
    {
     "name": "stdout",
     "output_type": "stream",
     "text": [
      "data3 50\n",
      "done\n",
      "data4 50\n",
      "done\n",
      "data2 50\n",
      "done\n",
      "data1 50\n",
      "done\n"
     ]
    }
   ],
   "source": [
    "done = True"
   ]
  },
  {
   "cell_type": "code",
   "execution_count": 16,
   "metadata": {},
   "outputs": [],
   "source": [
    "load_dir = \"data/test/\"\n",
    "input_path = load_dir + \"input\"\n",
    "output_path = load_dir + \"output\"\n",
    "\n",
    "input_tensor = load_tensor(input_path, out_type=tf.int32)\n",
    "output_tensor = load_tensor(output_path, out_type=tf.float32)"
   ]
  },
  {
   "cell_type": "code",
   "execution_count": 17,
   "metadata": {},
   "outputs": [
    {
     "name": "stdout",
     "output_type": "stream",
     "text": [
      "(19790,)\n"
     ]
    }
   ],
   "source": [
    "output_tensor\n",
    "normalized_tensor = tf.linalg.normalize(output_tensor, axis=0, ord='euclidean', name=None)[0]\n",
    "print(normalized_tensor.shape)\n"
   ]
  },
  {
   "cell_type": "code",
   "execution_count": null,
   "metadata": {},
   "outputs": [],
   "source": [
    "# print max value of tensor\n",
    "\n",
    "print(normalized_tensor.shape)\n",
    "maxi = tf.math.reduce_max(normalized_tensor)\n",
    "mini = tf.math.reduce_min(normalized_tensor)\n",
    "mean = tf.math.reduce_mean(normalized_tensor)\n",
    "std = tf.math.reduce_std(normalized_tensor)\n",
    " \n",
    "print('max', maxi)\n",
    "print('min', mini)\n",
    "print('mean', mean)\n",
    "print('std', std)\n",
    "\n",
    "test = normalized_tensor/maxi\n",
    "\n",
    "print(tf.math.reduce_max(test))\n",
    "print(tf.math.reduce_min(test))\n"
   ]
  },
  {
   "cell_type": "code",
   "execution_count": null,
   "metadata": {},
   "outputs": [],
   "source": [
    "max = tf.math.reduce_max(output_tensor)\n",
    "min = tf.math.reduce_min(output_tensor)\n",
    "std = tf.math.reduce_std(output_tensor)\n",
    "\n",
    "abs_max = tf.math.maximum(tf.math.abs(max), tf.math.abs(min))\n",
    "print(abs_max)\n",
    "print(output_tensor/abs_max)\n"
   ]
  }
 ],
 "metadata": {
  "kernelspec": {
   "display_name": "env",
   "language": "python",
   "name": "python3"
  },
  "language_info": {
   "codemirror_mode": {
    "name": "ipython",
    "version": 3
   },
   "file_extension": ".py",
   "mimetype": "text/x-python",
   "name": "python",
   "nbconvert_exporter": "python",
   "pygments_lexer": "ipython3",
   "version": "3.10.8"
  },
  "orig_nbformat": 4
 },
 "nbformat": 4,
 "nbformat_minor": 2
}
