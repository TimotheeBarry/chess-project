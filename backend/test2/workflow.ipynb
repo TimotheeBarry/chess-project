{
 "cells": [
  {
   "cell_type": "markdown",
   "metadata": {},
   "source": [
    "### Load data"
   ]
  },
  {
   "cell_type": "code",
   "execution_count": 8,
   "metadata": {},
   "outputs": [
    {
     "name": "stdout",
     "output_type": "stream",
     "text": [
      "tf.Tensor(-99.99, shape=(), dtype=float32) tf.Tensor(99.99, shape=(), dtype=float32)\n",
      "nb_positions: 22150\n"
     ]
    }
   ],
   "source": [
    "from utils.process_tensors import load_tensor, normalize_tensor\n",
    "import tensorflow as tf\n",
    "\n",
    "batch_size = 128\n",
    "train_ratio = .8\n",
    "\n",
    "file_names = [ \"test2\", \"test3\", \"test4\"]\n",
    "input_tensor = None\n",
    "output_tensor = None\n",
    "for file_name in file_names:\n",
    "    load_path = f\"./data/{file_name}/\"\n",
    "    input_path = load_path + \"input\"\n",
    "    output_path = load_path + \"output\"\n",
    "    x = load_tensor(input_path, out_type=tf.int32)\n",
    "    y = load_tensor(output_path, out_type=tf.float32)\n",
    "    if input_tensor is None:\n",
    "        input_tensor = x\n",
    "        output_tensor = y\n",
    "    else:\n",
    "        input_tensor = tf.concat([input_tensor, x], axis=0)\n",
    "        output_tensor = tf.concat([output_tensor, y], axis=0)\n",
    "print(tf.math.reduce_min(output_tensor), tf.math.reduce_max(output_tensor))\n",
    "output_tensor = normalize_tensor(output_tensor)\n",
    "\n",
    "dataset:tf.data.Dataset = tf.data.Dataset.from_tensor_slices((input_tensor, output_tensor))\n",
    "print('nb_positions:',dataset.cardinality().numpy())\n",
    "dataset = dataset.batch(batch_size)\n",
    "dataset = dataset.prefetch(1)\n",
    "\n",
    "train_size = int(dataset.cardinality().numpy() * train_ratio)\n",
    "test_size = int(dataset.cardinality().numpy() * (1 - train_ratio) / 2)\n",
    "\n",
    "train_dataset = dataset.take(train_size)\n",
    "test_dataset = dataset.skip(train_size)\n"
   ]
  },
  {
   "cell_type": "code",
   "execution_count": 2,
   "metadata": {},
   "outputs": [
    {
     "name": "stdout",
     "output_type": "stream",
     "text": [
      "train: 220\n",
      "test: 56\n"
     ]
    }
   ],
   "source": [
    "print('train:',train_dataset.cardinality().numpy())\n",
    "print('test:',test_dataset.cardinality().numpy())\n"
   ]
  },
  {
   "cell_type": "code",
   "execution_count": 3,
   "metadata": {},
   "outputs": [
    {
     "name": "stdout",
     "output_type": "stream",
     "text": [
      "Model: \"sequential\"\n",
      "_________________________________________________________________\n",
      " Layer (type)                Output Shape              Param #   \n",
      "=================================================================\n",
      " conv2d (Conv2D)             (None, 7, 8, 16)          1168      \n",
      "                                                                 \n",
      " dropout (Dropout)           (None, 7, 8, 16)          0         \n",
      "                                                                 \n",
      " conv2d_1 (Conv2D)           (None, 7, 8, 16)          2320      \n",
      "                                                                 \n",
      " dropout_1 (Dropout)         (None, 7, 8, 16)          0         \n",
      "                                                                 \n",
      " conv2d_2 (Conv2D)           (None, 7, 8, 16)          2320      \n",
      "                                                                 \n",
      " dropout_2 (Dropout)         (None, 7, 8, 16)          0         \n",
      "                                                                 \n",
      " flatten (Flatten)           (None, 896)               0         \n",
      "                                                                 \n",
      " dense (Dense)               (None, 64)                57408     \n",
      "                                                                 \n",
      " dense_1 (Dense)             (None, 1)                 65        \n",
      "                                                                 \n",
      "=================================================================\n",
      "Total params: 63281 (247.19 KB)\n",
      "Trainable params: 63281 (247.19 KB)\n",
      "Non-trainable params: 0 (0.00 Byte)\n",
      "_________________________________________________________________\n"
     ]
    }
   ],
   "source": [
    "from utils.build_model import build_model\n",
    "\n",
    "model = build_model(16, 3, (7, 8, 8))\n",
    "model.compile(optimizer='adam', loss='mean_squared_error')\n",
    "model.summary()"
   ]
  },
  {
   "cell_type": "code",
   "execution_count": 4,
   "metadata": {},
   "outputs": [],
   "source": [
    "import os\n",
    "from utils.callback_setup import callback_setup\n",
    "\n",
    "checkpoint_name = \"test_3_layers_4/\"\n",
    "checkpoint_filepath = os.path.join('backup', checkpoint_name)\n",
    "\n",
    "model_callbacks = callback_setup(checkpoint_filepath)"
   ]
  },
  {
   "cell_type": "markdown",
   "metadata": {},
   "source": [
    "### Load Weights"
   ]
  },
  {
   "cell_type": "code",
   "execution_count": 5,
   "metadata": {},
   "outputs": [],
   "source": [
    "# checkpoint_name = \"test_3_layers/\"\n",
    "# checkpoint_filepath = os.path.join('backup', checkpoint_name)\n",
    "\n",
    "# model.load_weights(checkpoint_filepath)"
   ]
  },
  {
   "cell_type": "code",
   "execution_count": 6,
   "metadata": {},
   "outputs": [
    {
     "name": "stdout",
     "output_type": "stream",
     "text": [
      "Epoch 1/40\n"
     ]
    },
    {
     "name": "stdout",
     "output_type": "stream",
     "text": [
      "220/220 [==============================] - 5s 16ms/step - loss: 0.0846 - val_loss: 0.0717\n",
      "Epoch 2/40\n",
      "220/220 [==============================] - 4s 16ms/step - loss: 0.0746 - val_loss: 0.0699\n",
      "Epoch 3/40\n",
      "220/220 [==============================] - 4s 17ms/step - loss: 0.0706 - val_loss: 0.0653\n",
      "Epoch 4/40\n",
      "220/220 [==============================] - 4s 16ms/step - loss: 0.0677 - val_loss: 0.0637\n",
      "Epoch 5/40\n",
      "220/220 [==============================] - 4s 16ms/step - loss: 0.0659 - val_loss: 0.0632\n",
      "Epoch 6/40\n",
      "220/220 [==============================] - 4s 17ms/step - loss: 0.0649 - val_loss: 0.0631\n",
      "Epoch 7/40\n",
      "220/220 [==============================] - 4s 16ms/step - loss: 0.0647 - val_loss: 0.0620\n",
      "Epoch 8/40\n",
      "220/220 [==============================] - 4s 16ms/step - loss: 0.0631 - val_loss: 0.0626\n",
      "Epoch 9/40\n",
      "220/220 [==============================] - 4s 17ms/step - loss: 0.0623 - val_loss: 0.0614\n",
      "Epoch 10/40\n",
      "220/220 [==============================] - 4s 16ms/step - loss: 0.0616 - val_loss: 0.0611\n",
      "Epoch 11/40\n",
      "220/220 [==============================] - 4s 16ms/step - loss: 0.0609 - val_loss: 0.0613\n",
      "Epoch 12/40\n",
      "220/220 [==============================] - 4s 17ms/step - loss: 0.0605 - val_loss: 0.0616\n",
      "Epoch 13/40\n",
      "220/220 [==============================] - 4s 16ms/step - loss: 0.0601 - val_loss: 0.0595\n",
      "Epoch 14/40\n",
      "220/220 [==============================] - 4s 16ms/step - loss: 0.0588 - val_loss: 0.0597\n",
      "Epoch 15/40\n",
      "220/220 [==============================] - 3s 16ms/step - loss: 0.0584 - val_loss: 0.0594\n",
      "Epoch 16/40\n",
      "220/220 [==============================] - 4s 16ms/step - loss: 0.0581 - val_loss: 0.0592\n",
      "Epoch 17/40\n",
      "220/220 [==============================] - 4s 16ms/step - loss: 0.0573 - val_loss: 0.0591\n",
      "Epoch 18/40\n",
      "220/220 [==============================] - 4s 16ms/step - loss: 0.0571 - val_loss: 0.0602\n",
      "Epoch 19/40\n",
      "220/220 [==============================] - 4s 16ms/step - loss: 0.0564 - val_loss: 0.0593\n",
      "Epoch 20/40\n",
      "220/220 [==============================] - 4s 16ms/step - loss: 0.0561 - val_loss: 0.0593\n",
      "Epoch 21/40\n",
      "220/220 [==============================] - 4s 16ms/step - loss: 0.0559 - val_loss: 0.0591\n",
      "Epoch 22/40\n",
      "220/220 [==============================] - 4s 18ms/step - loss: 0.0546 - val_loss: 0.0596\n",
      "Epoch 23/40\n",
      "220/220 [==============================] - 3s 16ms/step - loss: 0.0550 - val_loss: 0.0592\n",
      "Epoch 24/40\n",
      "220/220 [==============================] - 4s 16ms/step - loss: 0.0546 - val_loss: 0.0596\n",
      "Epoch 25/40\n",
      "220/220 [==============================] - 4s 16ms/step - loss: 0.0538 - val_loss: 0.0584\n",
      "Epoch 26/40\n",
      "220/220 [==============================] - 4s 16ms/step - loss: 0.0533 - val_loss: 0.0587\n",
      "Epoch 27/40\n",
      "220/220 [==============================] - 4s 16ms/step - loss: 0.0529 - val_loss: 0.0581\n",
      "Epoch 28/40\n",
      "220/220 [==============================] - 4s 17ms/step - loss: 0.0529 - val_loss: 0.0596\n",
      "Epoch 29/40\n",
      "220/220 [==============================] - 3s 16ms/step - loss: 0.0527 - val_loss: 0.0588\n",
      "Epoch 30/40\n",
      "220/220 [==============================] - 4s 16ms/step - loss: 0.0520 - val_loss: 0.0594\n",
      "Epoch 31/40\n",
      "220/220 [==============================] - 4s 16ms/step - loss: 0.0517 - val_loss: 0.0599\n",
      "Epoch 32/40\n",
      "220/220 [==============================] - 4s 16ms/step - loss: 0.0512 - val_loss: 0.0598\n",
      "Epoch 33/40\n",
      "220/220 [==============================] - 4s 17ms/step - loss: 0.0507 - val_loss: 0.0585\n",
      "Epoch 34/40\n",
      "220/220 [==============================] - 4s 16ms/step - loss: 0.0510 - val_loss: 0.0597\n",
      "Epoch 35/40\n",
      "220/220 [==============================] - 4s 17ms/step - loss: 0.0503 - val_loss: 0.0593\n",
      "Epoch 36/40\n",
      "220/220 [==============================] - 4s 18ms/step - loss: 0.0495 - val_loss: 0.0607\n",
      "Epoch 37/40\n",
      "220/220 [==============================] - 4s 18ms/step - loss: 0.0488 - val_loss: 0.0606\n",
      "Epoch 38/40\n",
      "220/220 [==============================] - 4s 16ms/step - loss: 0.0489 - val_loss: 0.0593\n",
      "Epoch 39/40\n",
      "220/220 [==============================] - 4s 17ms/step - loss: 0.0484 - val_loss: 0.0601\n",
      "Epoch 40/40\n",
      "220/220 [==============================] - 4s 17ms/step - loss: 0.0477 - val_loss: 0.0600\n"
     ]
    }
   ],
   "source": [
    "history = model.fit(train_dataset,\n",
    "                    epochs=40,\n",
    "                    validation_data=(test_dataset),\n",
    "                    verbose=1,\n",
    "                    callbacks=model_callbacks\n",
    "                    )"
   ]
  },
  {
   "cell_type": "code",
   "execution_count": 7,
   "metadata": {},
   "outputs": [
    {
     "data": {
      "image/png": "[encoded data removed]",
      "text/plain": [
       "<Figure size 640x480 with 1 Axes>"
      ]
     },
     "metadata": {},
     "output_type": "display_data"
    }
   ],
   "source": [
    "from utils.plot_loss import plot_loss\n",
    "plot_loss(history.epoch, history.history[\"loss\"], history.history[\"val_loss\"])"
   ]
  },
  {
   "cell_type": "code",
   "execution_count": 16,
   "metadata": {},
   "outputs": [
    {
     "name": "stdout",
     "output_type": "stream",
     "text": [
      "1/1 [==============================] - 0s 20ms/step\n",
      "y_test:  tf.Tensor([-1.3], shape=(1,), dtype=float32)\n",
      "y_pred:  [-2.5581093]\n"
     ]
    }
   ],
   "source": [
    "from utils.random_board import generate_random_board\n",
    "from utils.process_board import convert_board_to_array\n",
    "from utils.stockfish import get_score\n",
    "import random\n",
    "\n",
    "k = random.randrange(0, 1000)\n",
    "n = 1\n",
    "\n",
    "x_test = input_tensor[k:k+n,:,:,:]\n",
    "y_test = output_tensor[k:k+n]\n",
    "\n",
    "y_pred = model.predict(x_test)\n",
    "\n",
    "print(\"y_test: \", y_test*99.99)\n",
    "print(\"y_pred: \", y_pred[:,0]*100)\n",
    "\n",
    "\n"
   ]
  },
  {
   "cell_type": "code",
   "execution_count": 61,
   "metadata": {},
   "outputs": [
    {
     "name": "stdout",
     "output_type": "stream",
     "text": [
      "1/1 [==============================] - 0s 20ms/step\n",
      "y_pred:  -79.76203560829163\n",
      "y_true:  -99.98\n"
     ]
    },
    {
     "ename": "",
     "evalue": "",
     "output_type": "error",
     "traceback": [
      "\u001b[1;31mThe Kernel crashed while executing code in the the current cell or a previous cell. Please review the code in the cell(s) to identify a possible cause of the failure. Click <a href='https://aka.ms/vscodeJupyterKernelCrash'>here</a> for more info. View Jupyter <a href='command:jupyter.viewOutput'>log</a> for further details."
     ]
    }
   ],
   "source": [
    "board = generate_random_board()\n",
    "score = get_score(board)\n",
    "x_test = tf.convert_to_tensor(convert_board_to_array(board))\n",
    "x_test = tf.expand_dims(x_test, axis=0)\n",
    "\n",
    "y_predict = model.predict(x_test)\n",
    "\n",
    "print(\"y_pred: \", y_predict[0,0]*100)\n",
    "print(\"y_true: \", score)\n"
   ]
  }
 ],
 "metadata": {
  "kernelspec": {
   "display_name": "env",
   "language": "python",
   "name": "python3"
  },
  "language_info": {
   "codemirror_mode": {
    "name": "ipython",
    "version": 3
   },
   "file_extension": ".py",
   "mimetype": "text/x-python",
   "name": "python",
   "nbconvert_exporter": "python",
   "pygments_lexer": "ipython3",
   "version": "3.10.8"
  },
  "orig_nbformat": 4
 },
 "nbformat": 4,
 "nbformat_minor": 2
}
