{
 "cells": [
  {
   "cell_type": "markdown",
   "metadata": {},
   "source": [
    "### Tests GPU"
   ]
  },
  {
   "cell_type": "code",
   "execution_count": 1,
   "metadata": {},
   "outputs": [
    {
     "name": "stdout",
     "output_type": "stream",
     "text": [
      "Num GPUs Available:  1\n"
     ]
    }
   ],
   "source": [
    "import tensorflow as tf\n",
    "print(\"Num GPUs Available: \", len(tf.config.list_physical_devices('GPU')))"
   ]
  },
  {
   "cell_type": "markdown",
   "metadata": {},
   "source": [
    "### Load data"
   ]
  },
  {
   "cell_type": "code",
   "execution_count": 2,
   "metadata": {},
   "outputs": [],
   "source": [
    "from utils.process_tensors import load_tensor, normalize_tensor\n",
    "import tensorflow as tf\n",
    "\n",
    "# Parameters\n",
    "loss = 'mse'\n",
    "nb_layers = 3\n",
    "nb_filters = 32\n",
    "batch_size = 16\n",
    "shape = (8,8,8)\n",
    "\n",
    "train_ratio = .8\n",
    "\n",
    "file_names = ['test1']\n",
    "\n",
    "input_tensor = None\n",
    "output_tensor = None\n",
    "for file_name in file_names:\n",
    "    load_path = f\"./data/{file_name}/\"\n",
    "    input_path = load_path + \"input\"\n",
    "    output_path = load_path + \"output\"\n",
    "    x = load_tensor(input_path, out_type=tf.int32)\n",
    "    y = load_tensor(output_path, out_type=tf.float32)\n",
    "    if input_tensor is None:\n",
    "        input_tensor = x\n",
    "        output_tensor = y\n",
    "    else:\n",
    "        input_tensor = tf.concat([input_tensor, x], axis=0)\n",
    "        output_tensor = tf.concat([output_tensor, y], axis=0)\n",
    "\n",
    "\n"
   ]
  },
  {
   "cell_type": "markdown",
   "metadata": {},
   "source": [
    "### Transform Data"
   ]
  },
  {
   "cell_type": "code",
   "execution_count": 3,
   "metadata": {},
   "outputs": [],
   "source": [
    "from utils.process_tensors import transform_square_root_tensor, reverse_transform_square_root_tensor\n",
    "\n",
    "max_value = tf.reduce_max(tf.abs(output_tensor)).numpy()\n",
    "transformed_tensor = transform_square_root_tensor(output_tensor, max_value=1.0)\n"
   ]
  },
  {
   "cell_type": "markdown",
   "metadata": {},
   "source": [
    "### Visualize data"
   ]
  },
  {
   "cell_type": "code",
   "execution_count": 4,
   "metadata": {},
   "outputs": [],
   "source": [
    "# import matplotlib.pyplot as plt\n",
    "\n",
    "# fig, axs = plt.subplots(1, 2, figsize=(20, 2.5))\n",
    "# bins = 50\n",
    "# axs[0].hist(output_tensor, bins=bins)\n",
    "# axs[1].hist(transformed_tensor, bins=bins)\n",
    "# print(f'max value of output_tensor: {max_value}')\n",
    "# print histogram of output_array\n"
   ]
  },
  {
   "cell_type": "markdown",
   "metadata": {},
   "source": [
    "### Make Dataset + separate into train and test"
   ]
  },
  {
   "cell_type": "code",
   "execution_count": 5,
   "metadata": {},
   "outputs": [
    {
     "name": "stdout",
     "output_type": "stream",
     "text": [
      "Number of positions: 10000\n",
      "Number of batches: 16\n",
      "train size: 500\n",
      "test size: 125\n"
     ]
    }
   ],
   "source": [
    "dataset:tf.data.Dataset = tf.data.Dataset.from_tensor_slices((input_tensor, transformed_tensor))\n",
    "print('Number of positions:',dataset.cardinality().numpy())\n",
    "\n",
    "# batch and shuffle\n",
    "dataset = dataset.batch(batch_size)\n",
    "dataset = dataset.prefetch(1)\n",
    "dataset = dataset.shuffle(buffer_size=dataset.cardinality().numpy())\n",
    "\n",
    "# split\n",
    "train_size = int(dataset.cardinality().numpy() * train_ratio)\n",
    "train_dataset = dataset.take(train_size)\n",
    "test_dataset = dataset.skip(train_size)\n",
    "\n",
    "print('Number of batches:',batch_size)\n",
    "print('train size:',train_dataset.cardinality().numpy())\n",
    "print('test size:',test_dataset.cardinality().numpy())"
   ]
  },
  {
   "cell_type": "markdown",
   "metadata": {},
   "source": [
    "### Model"
   ]
  },
  {
   "cell_type": "code",
   "execution_count": 6,
   "metadata": {},
   "outputs": [
    {
     "name": "stdout",
     "output_type": "stream",
     "text": [
      "Model: \"sequential\"\n",
      "_________________________________________________________________\n",
      " Layer (type)                Output Shape              Param #   \n",
      "=================================================================\n",
      " conv2d (Conv2D)             (None, 8, 8, 32)          2336      \n",
      "                                                                 \n",
      " dropout (Dropout)           (None, 8, 8, 32)          0         \n",
      "                                                                 \n",
      " conv2d_1 (Conv2D)           (None, 8, 8, 32)          9248      \n",
      "                                                                 \n",
      " dropout_1 (Dropout)         (None, 8, 8, 32)          0         \n",
      "                                                                 \n",
      " conv2d_2 (Conv2D)           (None, 8, 8, 32)          9248      \n",
      "                                                                 \n",
      " dropout_2 (Dropout)         (None, 8, 8, 32)          0         \n",
      "                                                                 \n",
      " flatten (Flatten)           (None, 2048)              0         \n",
      "                                                                 \n",
      " dense (Dense)               (None, 64)                131136    \n",
      "                                                                 \n",
      " dense_1 (Dense)             (None, 1)                 65        \n",
      "                                                                 \n",
      "=================================================================\n",
      "Total params: 152,033\n",
      "Trainable params: 152,033\n",
      "Non-trainable params: 0\n",
      "_________________________________________________________________\n"
     ]
    }
   ],
   "source": [
    "from utils.build_model import build_model\n",
    "\n",
    "model = build_model(nb_filters=nb_filters , nb_layers=nb_layers, shape=shape)\n",
    "model.compile(optimizer='adam', loss=loss, metrics=['mae', 'mse', 'msle'])\n",
    "model.summary()"
   ]
  },
  {
   "cell_type": "code",
   "execution_count": 7,
   "metadata": {},
   "outputs": [
    {
     "name": "stdout",
     "output_type": "stream",
     "text": [
      "checkpoint name: loss=mse-layers=3-filters=32-batchsize=16-shape=888-try=01\n"
     ]
    }
   ],
   "source": [
    "import os\n",
    "from utils.callback_setup import callback_setup, create_checkpoint_name\n",
    "# checkpoint_name = f\"{loss}_{nb_layers}_{nb_filters}_{batch_size}_02/\"\n",
    "\n",
    "checkpoint_name = create_checkpoint_name(loss=loss, nb_layers=nb_layers, nb_filters=nb_filters, batchsize=batch_size, shape=shape, try_nb=1)\n",
    "print('checkpoint name:',checkpoint_name)\n",
    "logs_dir = f'logs/{checkpoint_name}/'\n",
    "checkpoint_dir = os.path.join('backup', checkpoint_name)\n",
    "\n",
    "model_callbacks = callback_setup(checkpoint_dir, logs_dir, monitor='loss', mode='min')"
   ]
  },
  {
   "cell_type": "markdown",
   "metadata": {},
   "source": [
    "### Load Weights"
   ]
  },
  {
   "cell_type": "code",
   "execution_count": 8,
   "metadata": {},
   "outputs": [],
   "source": [
    "#checkpoint_name = \"test_3_layers_4/\"\n",
    "try:\n",
    "    checkpoint_filepath = os.path.join('backup', checkpoint_name)\n",
    "\n",
    "    model.load_weights(checkpoint_filepath)\n",
    "except:\n",
    "    print(\"No checkpoint found.\")\n",
    "    pass"
   ]
  },
  {
   "cell_type": "code",
   "execution_count": 31,
   "metadata": {},
   "outputs": [
    {
     "name": "stdout",
     "output_type": "stream",
     "text": [
      "Epoch 1/100\n"
     ]
    },
    {
     "name": "stdout",
     "output_type": "stream",
     "text": [
      "500/500 [==============================] - 17s 12ms/step - loss: 0.0812 - mae: 0.1850 - mse: 0.0812 - msle: 0.0203 - val_loss: 0.0531 - val_mae: 0.1499 - val_mse: 0.0531 - val_msle: 0.0151\n",
      "Epoch 2/100\n",
      "500/500 [==============================] - 6s 13ms/step - loss: 0.0590 - mae: 0.1591 - mse: 0.0590 - msle: 0.0147 - val_loss: 0.0464 - val_mae: 0.1418 - val_mse: 0.0464 - val_msle: 0.0129\n",
      "Epoch 3/100\n",
      "500/500 [==============================] - 5s 10ms/step - loss: 0.0532 - mae: 0.1516 - mse: 0.0532 - msle: 0.0131 - val_loss: 0.0397 - val_mae: 0.1350 - val_mse: 0.0397 - val_msle: 0.0112\n",
      "Epoch 4/100\n",
      "500/500 [==============================] - 6s 11ms/step - loss: 0.0511 - mae: 0.1480 - mse: 0.0511 - msle: 0.0126 - val_loss: 0.0533 - val_mae: 0.1482 - val_mse: 0.0533 - val_msle: 0.0158\n",
      "Epoch 5/100\n",
      "500/500 [==============================] - 6s 12ms/step - loss: 0.0499 - mae: 0.1459 - mse: 0.0499 - msle: 0.0125 - val_loss: 0.0467 - val_mae: 0.1400 - val_mse: 0.0467 - val_msle: 0.0126\n",
      "Epoch 6/100\n",
      "500/500 [==============================] - 7s 14ms/step - loss: 0.0460 - mae: 0.1408 - mse: 0.0460 - msle: 0.0117 - val_loss: 0.0420 - val_mae: 0.1339 - val_mse: 0.0420 - val_msle: 0.0091\n",
      "Epoch 7/100\n",
      "500/500 [==============================] - 6s 12ms/step - loss: 0.0461 - mae: 0.1407 - mse: 0.0461 - msle: 0.0114 - val_loss: 0.0416 - val_mae: 0.1316 - val_mse: 0.0416 - val_msle: 0.0108\n",
      "Epoch 8/100\n",
      "500/500 [==============================] - 6s 11ms/step - loss: 0.0439 - mae: 0.1382 - mse: 0.0439 - msle: 0.0105 - val_loss: 0.0381 - val_mae: 0.1304 - val_mse: 0.0381 - val_msle: 0.0104\n",
      "Epoch 9/100\n",
      "500/500 [==============================] - 6s 12ms/step - loss: 0.0424 - mae: 0.1366 - mse: 0.0424 - msle: 0.0106 - val_loss: 0.0411 - val_mae: 0.1391 - val_mse: 0.0411 - val_msle: 0.0115\n",
      "Epoch 10/100\n",
      "500/500 [==============================] - 6s 12ms/step - loss: 0.0421 - mae: 0.1355 - mse: 0.0421 - msle: 0.0103 - val_loss: 0.0350 - val_mae: 0.1261 - val_mse: 0.0350 - val_msle: 0.0103\n",
      "Epoch 11/100\n",
      "500/500 [==============================] - 7s 14ms/step - loss: 0.0391 - mae: 0.1312 - mse: 0.0391 - msle: 0.0101 - val_loss: 0.0356 - val_mae: 0.1267 - val_mse: 0.0356 - val_msle: 0.0075\n",
      "Epoch 12/100\n",
      "500/500 [==============================] - 7s 14ms/step - loss: 0.0374 - mae: 0.1286 - mse: 0.0374 - msle: 0.0092 - val_loss: 0.0415 - val_mae: 0.1326 - val_mse: 0.0415 - val_msle: 0.0116\n",
      "Epoch 13/100\n",
      "500/500 [==============================] - 6s 12ms/step - loss: 0.0369 - mae: 0.1281 - mse: 0.0369 - msle: 0.0093 - val_loss: 0.0350 - val_mae: 0.1264 - val_mse: 0.0350 - val_msle: 0.0074\n",
      "Epoch 14/100\n",
      "500/500 [==============================] - 6s 12ms/step - loss: 0.0377 - mae: 0.1297 - mse: 0.0377 - msle: 0.0095 - val_loss: 0.0311 - val_mae: 0.1170 - val_mse: 0.0311 - val_msle: 0.0091\n",
      "Epoch 15/100\n",
      "500/500 [==============================] - 7s 14ms/step - loss: 0.0349 - mae: 0.1254 - mse: 0.0349 - msle: 0.0090 - val_loss: 0.0293 - val_mae: 0.1132 - val_mse: 0.0293 - val_msle: 0.0081\n",
      "Epoch 16/100\n",
      "500/500 [==============================] - 7s 14ms/step - loss: 0.0340 - mae: 0.1227 - mse: 0.0340 - msle: 0.0088 - val_loss: 0.0253 - val_mae: 0.1119 - val_mse: 0.0253 - val_msle: 0.0065\n",
      "Epoch 17/100\n",
      "500/500 [==============================] - 8s 15ms/step - loss: 0.0326 - mae: 0.1205 - mse: 0.0326 - msle: 0.0081 - val_loss: 0.0295 - val_mae: 0.1156 - val_mse: 0.0295 - val_msle: 0.0084\n",
      "Epoch 18/100\n",
      "500/500 [==============================] - 7s 14ms/step - loss: 0.0326 - mae: 0.1216 - mse: 0.0326 - msle: 0.0082 - val_loss: 0.0273 - val_mae: 0.1132 - val_mse: 0.0273 - val_msle: 0.0084\n",
      "Epoch 19/100\n",
      "500/500 [==============================] - 7s 15ms/step - loss: 0.0331 - mae: 0.1220 - mse: 0.0331 - msle: 0.0085 - val_loss: 0.0247 - val_mae: 0.1061 - val_mse: 0.0247 - val_msle: 0.0063\n",
      "Epoch 20/100\n",
      "500/500 [==============================] - 6s 12ms/step - loss: 0.0312 - mae: 0.1186 - mse: 0.0312 - msle: 0.0078 - val_loss: 0.0239 - val_mae: 0.1068 - val_mse: 0.0239 - val_msle: 0.0067\n",
      "Epoch 21/100\n",
      "500/500 [==============================] - 5s 11ms/step - loss: 0.0295 - mae: 0.1165 - mse: 0.0295 - msle: 0.0076 - val_loss: 0.0253 - val_mae: 0.1076 - val_mse: 0.0253 - val_msle: 0.0060\n",
      "Epoch 22/100\n",
      "500/500 [==============================] - 6s 12ms/step - loss: 0.0307 - mae: 0.1186 - mse: 0.0307 - msle: 0.0080 - val_loss: 0.0229 - val_mae: 0.1050 - val_mse: 0.0229 - val_msle: 0.0061\n",
      "Epoch 23/100\n",
      "500/500 [==============================] - 6s 12ms/step - loss: 0.0286 - mae: 0.1145 - mse: 0.0286 - msle: 0.0076 - val_loss: 0.0204 - val_mae: 0.0996 - val_mse: 0.0204 - val_msle: 0.0051\n",
      "Epoch 24/100\n",
      "500/500 [==============================] - 6s 12ms/step - loss: 0.0295 - mae: 0.1160 - mse: 0.0295 - msle: 0.0075 - val_loss: 0.0230 - val_mae: 0.1060 - val_mse: 0.0230 - val_msle: 0.0060\n",
      "Epoch 25/100\n",
      "500/500 [==============================] - 6s 13ms/step - loss: 0.0283 - mae: 0.1133 - mse: 0.0283 - msle: 0.0073 - val_loss: 0.0222 - val_mae: 0.1023 - val_mse: 0.0222 - val_msle: 0.0052\n",
      "Epoch 26/100\n",
      "500/500 [==============================] - 5s 11ms/step - loss: 0.0301 - mae: 0.1160 - mse: 0.0301 - msle: 0.0078 - val_loss: 0.0222 - val_mae: 0.1040 - val_mse: 0.0222 - val_msle: 0.0060\n",
      "Epoch 27/100\n",
      "500/500 [==============================] - 5s 10ms/step - loss: 0.0286 - mae: 0.1147 - mse: 0.0286 - msle: 0.0075 - val_loss: 0.0222 - val_mae: 0.1038 - val_mse: 0.0222 - val_msle: 0.0051\n",
      "Epoch 28/100\n",
      "500/500 [==============================] - 6s 11ms/step - loss: 0.0275 - mae: 0.1121 - mse: 0.0275 - msle: 0.0072 - val_loss: 0.0192 - val_mae: 0.0985 - val_mse: 0.0192 - val_msle: 0.0051\n",
      "Epoch 29/100\n",
      "500/500 [==============================] - 7s 13ms/step - loss: 0.0265 - mae: 0.1104 - mse: 0.0265 - msle: 0.0066 - val_loss: 0.0215 - val_mae: 0.0983 - val_mse: 0.0215 - val_msle: 0.0060\n",
      "Epoch 30/100\n",
      "500/500 [==============================] - 6s 12ms/step - loss: 0.0260 - mae: 0.1100 - mse: 0.0260 - msle: 0.0069 - val_loss: 0.0178 - val_mae: 0.0953 - val_mse: 0.0178 - val_msle: 0.0046\n",
      "Epoch 31/100\n",
      "500/500 [==============================] - 6s 13ms/step - loss: 0.0255 - mae: 0.1091 - mse: 0.0255 - msle: 0.0067 - val_loss: 0.0183 - val_mae: 0.0939 - val_mse: 0.0183 - val_msle: 0.0051\n",
      "Epoch 32/100\n",
      "500/500 [==============================] - 7s 13ms/step - loss: 0.0261 - mae: 0.1091 - mse: 0.0261 - msle: 0.0068 - val_loss: 0.0169 - val_mae: 0.0916 - val_mse: 0.0169 - val_msle: 0.0054\n",
      "Epoch 33/100\n",
      "500/500 [==============================] - 6s 12ms/step - loss: 0.0244 - mae: 0.1074 - mse: 0.0244 - msle: 0.0065 - val_loss: 0.0203 - val_mae: 0.0964 - val_mse: 0.0203 - val_msle: 0.0049\n",
      "Epoch 34/100\n",
      "500/500 [==============================] - 6s 12ms/step - loss: 0.0249 - mae: 0.1075 - mse: 0.0249 - msle: 0.0065 - val_loss: 0.0173 - val_mae: 0.0937 - val_mse: 0.0173 - val_msle: 0.0053\n",
      "Epoch 35/100\n",
      "500/500 [==============================] - 7s 13ms/step - loss: 0.0238 - mae: 0.1068 - mse: 0.0238 - msle: 0.0062 - val_loss: 0.0197 - val_mae: 0.0969 - val_mse: 0.0197 - val_msle: 0.0067\n",
      "Epoch 36/100\n",
      "500/500 [==============================] - 8s 17ms/step - loss: 0.0248 - mae: 0.1076 - mse: 0.0248 - msle: 0.0065 - val_loss: 0.0186 - val_mae: 0.0973 - val_mse: 0.0186 - val_msle: 0.0061\n",
      "Epoch 37/100\n",
      "500/500 [==============================] - 6s 13ms/step - loss: 0.0250 - mae: 0.1083 - mse: 0.0250 - msle: 0.0068 - val_loss: 0.0167 - val_mae: 0.0892 - val_mse: 0.0167 - val_msle: 0.0051\n",
      "Epoch 38/100\n",
      "500/500 [==============================] - 6s 12ms/step - loss: 0.0238 - mae: 0.1054 - mse: 0.0238 - msle: 0.0064 - val_loss: 0.0191 - val_mae: 0.0954 - val_mse: 0.0191 - val_msle: 0.0058\n",
      "Epoch 39/100\n",
      "500/500 [==============================] - 7s 14ms/step - loss: 0.0238 - mae: 0.1058 - mse: 0.0238 - msle: 0.0063 - val_loss: 0.0173 - val_mae: 0.0933 - val_mse: 0.0173 - val_msle: 0.0047\n",
      "Epoch 40/100\n",
      "500/500 [==============================] - 7s 13ms/step - loss: 0.0232 - mae: 0.1043 - mse: 0.0232 - msle: 0.0062 - val_loss: 0.0171 - val_mae: 0.0921 - val_mse: 0.0171 - val_msle: 0.0050\n",
      "Epoch 41/100\n",
      "500/500 [==============================] - 6s 12ms/step - loss: 0.0229 - mae: 0.1042 - mse: 0.0229 - msle: 0.0061 - val_loss: 0.0204 - val_mae: 0.0985 - val_mse: 0.0204 - val_msle: 0.0066\n",
      "Epoch 42/100\n",
      "500/500 [==============================] - 6s 12ms/step - loss: 0.0226 - mae: 0.1038 - mse: 0.0226 - msle: 0.0061 - val_loss: 0.0170 - val_mae: 0.0899 - val_mse: 0.0170 - val_msle: 0.0047\n",
      "Epoch 43/100\n",
      "500/500 [==============================] - 7s 13ms/step - loss: 0.0233 - mae: 0.1051 - mse: 0.0233 - msle: 0.0062 - val_loss: 0.0182 - val_mae: 0.0923 - val_mse: 0.0182 - val_msle: 0.0063\n",
      "Epoch 44/100\n",
      "500/500 [==============================] - 6s 12ms/step - loss: 0.0231 - mae: 0.1039 - mse: 0.0231 - msle: 0.0062 - val_loss: 0.0151 - val_mae: 0.0884 - val_mse: 0.0151 - val_msle: 0.0048\n",
      "Epoch 45/100\n",
      "500/500 [==============================] - 6s 13ms/step - loss: 0.0228 - mae: 0.1032 - mse: 0.0228 - msle: 0.0062 - val_loss: 0.0144 - val_mae: 0.0868 - val_mse: 0.0144 - val_msle: 0.0047\n",
      "Epoch 46/100\n",
      "500/500 [==============================] - 7s 13ms/step - loss: 0.0210 - mae: 0.1001 - mse: 0.0210 - msle: 0.0057 - val_loss: 0.0151 - val_mae: 0.0893 - val_mse: 0.0151 - val_msle: 0.0041\n",
      "Epoch 47/100\n",
      "500/500 [==============================] - 6s 13ms/step - loss: 0.0233 - mae: 0.1048 - mse: 0.0233 - msle: 0.0061 - val_loss: 0.0143 - val_mae: 0.0863 - val_mse: 0.0143 - val_msle: 0.0041\n",
      "Epoch 48/100\n",
      "500/500 [==============================] - 6s 12ms/step - loss: 0.0224 - mae: 0.1029 - mse: 0.0224 - msle: 0.0059 - val_loss: 0.0167 - val_mae: 0.0902 - val_mse: 0.0167 - val_msle: 0.0051\n",
      "Epoch 49/100\n",
      "500/500 [==============================] - 7s 13ms/step - loss: 0.0216 - mae: 0.1014 - mse: 0.0216 - msle: 0.0060 - val_loss: 0.0165 - val_mae: 0.0871 - val_mse: 0.0165 - val_msle: 0.0052\n",
      "Epoch 50/100\n",
      "500/500 [==============================] - 7s 13ms/step - loss: 0.0214 - mae: 0.1013 - mse: 0.0214 - msle: 0.0057 - val_loss: 0.0155 - val_mae: 0.0902 - val_mse: 0.0155 - val_msle: 0.0042\n",
      "Epoch 51/100\n",
      "500/500 [==============================] - 6s 13ms/step - loss: 0.0218 - mae: 0.1016 - mse: 0.0218 - msle: 0.0060 - val_loss: 0.0173 - val_mae: 0.0935 - val_mse: 0.0173 - val_msle: 0.0037\n",
      "Epoch 52/100\n",
      "500/500 [==============================] - 7s 13ms/step - loss: 0.0220 - mae: 0.1035 - mse: 0.0220 - msle: 0.0058 - val_loss: 0.0139 - val_mae: 0.0853 - val_mse: 0.0139 - val_msle: 0.0046\n",
      "Epoch 53/100\n",
      "500/500 [==============================] - 6s 13ms/step - loss: 0.0210 - mae: 0.1001 - mse: 0.0210 - msle: 0.0057 - val_loss: 0.0144 - val_mae: 0.0858 - val_mse: 0.0144 - val_msle: 0.0048\n",
      "Epoch 54/100\n",
      "500/500 [==============================] - 6s 12ms/step - loss: 0.0218 - mae: 0.1014 - mse: 0.0218 - msle: 0.0058 - val_loss: 0.0149 - val_mae: 0.0844 - val_mse: 0.0149 - val_msle: 0.0040\n",
      "Epoch 55/100\n",
      "500/500 [==============================] - 6s 13ms/step - loss: 0.0211 - mae: 0.0998 - mse: 0.0211 - msle: 0.0056 - val_loss: 0.0143 - val_mae: 0.0864 - val_mse: 0.0143 - val_msle: 0.0039\n",
      "Epoch 56/100\n",
      "500/500 [==============================] - 6s 13ms/step - loss: 0.0216 - mae: 0.1022 - mse: 0.0216 - msle: 0.0060 - val_loss: 0.0138 - val_mae: 0.0865 - val_mse: 0.0138 - val_msle: 0.0033\n",
      "Epoch 57/100\n",
      "500/500 [==============================] - 7s 13ms/step - loss: 0.0209 - mae: 0.1002 - mse: 0.0209 - msle: 0.0056 - val_loss: 0.0160 - val_mae: 0.0892 - val_mse: 0.0160 - val_msle: 0.0055\n",
      "Epoch 58/100\n",
      "500/500 [==============================] - 7s 14ms/step - loss: 0.0211 - mae: 0.0996 - mse: 0.0211 - msle: 0.0060 - val_loss: 0.0129 - val_mae: 0.0837 - val_mse: 0.0129 - val_msle: 0.0036\n",
      "Epoch 59/100\n",
      "500/500 [==============================] - 6s 13ms/step - loss: 0.0207 - mae: 0.1001 - mse: 0.0207 - msle: 0.0058 - val_loss: 0.0148 - val_mae: 0.0887 - val_mse: 0.0148 - val_msle: 0.0037\n",
      "Epoch 60/100\n",
      "500/500 [==============================] - 7s 14ms/step - loss: 0.0202 - mae: 0.0995 - mse: 0.0202 - msle: 0.0056 - val_loss: 0.0137 - val_mae: 0.0869 - val_mse: 0.0137 - val_msle: 0.0047\n",
      "Epoch 61/100\n",
      "500/500 [==============================] - 7s 14ms/step - loss: 0.0200 - mae: 0.0986 - mse: 0.0200 - msle: 0.0054 - val_loss: 0.0148 - val_mae: 0.0881 - val_mse: 0.0148 - val_msle: 0.0037\n",
      "Epoch 62/100\n",
      "500/500 [==============================] - 7s 14ms/step - loss: 0.0204 - mae: 0.0985 - mse: 0.0204 - msle: 0.0055 - val_loss: 0.0152 - val_mae: 0.0905 - val_mse: 0.0152 - val_msle: 0.0040\n",
      "Epoch 63/100\n",
      "500/500 [==============================] - 7s 14ms/step - loss: 0.0208 - mae: 0.1002 - mse: 0.0208 - msle: 0.0058 - val_loss: 0.0118 - val_mae: 0.0803 - val_mse: 0.0118 - val_msle: 0.0042\n",
      "Epoch 64/100\n",
      "500/500 [==============================] - 7s 14ms/step - loss: 0.0190 - mae: 0.0969 - mse: 0.0190 - msle: 0.0053 - val_loss: 0.0132 - val_mae: 0.0868 - val_mse: 0.0132 - val_msle: 0.0043\n",
      "Epoch 65/100\n",
      "500/500 [==============================] - 7s 13ms/step - loss: 0.0205 - mae: 0.0990 - mse: 0.0205 - msle: 0.0055 - val_loss: 0.0139 - val_mae: 0.0851 - val_mse: 0.0139 - val_msle: 0.0045\n",
      "Epoch 66/100\n",
      "500/500 [==============================] - 6s 13ms/step - loss: 0.0191 - mae: 0.0968 - mse: 0.0191 - msle: 0.0053 - val_loss: 0.0142 - val_mae: 0.0836 - val_mse: 0.0142 - val_msle: 0.0046\n",
      "Epoch 67/100\n",
      "500/500 [==============================] - 10s 20ms/step - loss: 0.0191 - mae: 0.0968 - mse: 0.0191 - msle: 0.0054 - val_loss: 0.0134 - val_mae: 0.0837 - val_mse: 0.0134 - val_msle: 0.0039\n",
      "Epoch 68/100\n",
      "500/500 [==============================] - 7s 13ms/step - loss: 0.0187 - mae: 0.0954 - mse: 0.0187 - msle: 0.0053 - val_loss: 0.0126 - val_mae: 0.0808 - val_mse: 0.0126 - val_msle: 0.0034\n",
      "Epoch 69/100\n",
      "500/500 [==============================] - 6s 13ms/step - loss: 0.0195 - mae: 0.0965 - mse: 0.0195 - msle: 0.0054 - val_loss: 0.0130 - val_mae: 0.0834 - val_mse: 0.0130 - val_msle: 0.0035\n",
      "Epoch 70/100\n",
      "500/500 [==============================] - 7s 13ms/step - loss: 0.0200 - mae: 0.0982 - mse: 0.0200 - msle: 0.0058 - val_loss: 0.0130 - val_mae: 0.0829 - val_mse: 0.0130 - val_msle: 0.0045\n",
      "Epoch 71/100\n",
      "500/500 [==============================] - 6s 12ms/step - loss: 0.0198 - mae: 0.0973 - mse: 0.0198 - msle: 0.0056 - val_loss: 0.0155 - val_mae: 0.0924 - val_mse: 0.0155 - val_msle: 0.0033\n",
      "Epoch 72/100\n",
      "500/500 [==============================] - 6s 12ms/step - loss: 0.0196 - mae: 0.0974 - mse: 0.0196 - msle: 0.0054 - val_loss: 0.0114 - val_mae: 0.0784 - val_mse: 0.0114 - val_msle: 0.0037\n",
      "Epoch 73/100\n",
      "500/500 [==============================] - 7s 14ms/step - loss: 0.0189 - mae: 0.0966 - mse: 0.0189 - msle: 0.0054 - val_loss: 0.0113 - val_mae: 0.0772 - val_mse: 0.0113 - val_msle: 0.0031\n",
      "Epoch 74/100\n",
      "500/500 [==============================] - 6s 13ms/step - loss: 0.0182 - mae: 0.0951 - mse: 0.0182 - msle: 0.0052 - val_loss: 0.0117 - val_mae: 0.0783 - val_mse: 0.0117 - val_msle: 0.0043\n",
      "Epoch 75/100\n",
      "500/500 [==============================] - 7s 15ms/step - loss: 0.0182 - mae: 0.0950 - mse: 0.0182 - msle: 0.0050 - val_loss: 0.0135 - val_mae: 0.0840 - val_mse: 0.0135 - val_msle: 0.0049\n",
      "Epoch 76/100\n",
      "500/500 [==============================] - 6s 12ms/step - loss: 0.0201 - mae: 0.0978 - mse: 0.0201 - msle: 0.0055 - val_loss: 0.0130 - val_mae: 0.0845 - val_mse: 0.0130 - val_msle: 0.0050\n",
      "Epoch 77/100\n",
      "500/500 [==============================] - 7s 13ms/step - loss: 0.0182 - mae: 0.0952 - mse: 0.0182 - msle: 0.0052 - val_loss: 0.0136 - val_mae: 0.0845 - val_mse: 0.0136 - val_msle: 0.0044\n",
      "Epoch 78/100\n",
      "500/500 [==============================] - 7s 13ms/step - loss: 0.0185 - mae: 0.0946 - mse: 0.0185 - msle: 0.0052 - val_loss: 0.0120 - val_mae: 0.0813 - val_mse: 0.0120 - val_msle: 0.0040\n",
      "Epoch 79/100\n",
      "500/500 [==============================] - 6s 13ms/step - loss: 0.0185 - mae: 0.0946 - mse: 0.0185 - msle: 0.0053 - val_loss: 0.0119 - val_mae: 0.0794 - val_mse: 0.0119 - val_msle: 0.0042\n",
      "Epoch 80/100\n",
      "500/500 [==============================] - 8s 16ms/step - loss: 0.0186 - mae: 0.0945 - mse: 0.0186 - msle: 0.0052 - val_loss: 0.0119 - val_mae: 0.0791 - val_mse: 0.0119 - val_msle: 0.0034\n",
      "Epoch 81/100\n",
      "500/500 [==============================] - 7s 15ms/step - loss: 0.0183 - mae: 0.0946 - mse: 0.0183 - msle: 0.0053 - val_loss: 0.0122 - val_mae: 0.0834 - val_mse: 0.0122 - val_msle: 0.0035\n",
      "Epoch 82/100\n",
      "500/500 [==============================] - 6s 13ms/step - loss: 0.0178 - mae: 0.0940 - mse: 0.0178 - msle: 0.0051 - val_loss: 0.0117 - val_mae: 0.0797 - val_mse: 0.0117 - val_msle: 0.0038\n",
      "Epoch 83/100\n",
      "500/500 [==============================] - 6s 11ms/step - loss: 0.0185 - mae: 0.0936 - mse: 0.0185 - msle: 0.0052 - val_loss: 0.0119 - val_mae: 0.0802 - val_mse: 0.0119 - val_msle: 0.0029\n",
      "Epoch 84/100\n",
      "500/500 [==============================] - 6s 13ms/step - loss: 0.0183 - mae: 0.0940 - mse: 0.0183 - msle: 0.0051 - val_loss: 0.0125 - val_mae: 0.0809 - val_mse: 0.0125 - val_msle: 0.0044\n",
      "Epoch 85/100\n",
      "500/500 [==============================] - 7s 14ms/step - loss: 0.0178 - mae: 0.0938 - mse: 0.0178 - msle: 0.0051 - val_loss: 0.0121 - val_mae: 0.0813 - val_mse: 0.0121 - val_msle: 0.0038\n",
      "Epoch 86/100\n",
      "500/500 [==============================] - 5s 11ms/step - loss: 0.0178 - mae: 0.0944 - mse: 0.0178 - msle: 0.0051 - val_loss: 0.0136 - val_mae: 0.0849 - val_mse: 0.0136 - val_msle: 0.0037\n",
      "Epoch 87/100\n",
      "500/500 [==============================] - 5s 10ms/step - loss: 0.0175 - mae: 0.0935 - mse: 0.0175 - msle: 0.0051 - val_loss: 0.0120 - val_mae: 0.0815 - val_mse: 0.0120 - val_msle: 0.0042\n",
      "Epoch 88/100\n",
      "500/500 [==============================] - 7s 13ms/step - loss: 0.0182 - mae: 0.0934 - mse: 0.0182 - msle: 0.0052 - val_loss: 0.0112 - val_mae: 0.0776 - val_mse: 0.0112 - val_msle: 0.0031\n",
      "Epoch 89/100\n",
      "500/500 [==============================] - 6s 11ms/step - loss: 0.0175 - mae: 0.0930 - mse: 0.0175 - msle: 0.0048 - val_loss: 0.0127 - val_mae: 0.0845 - val_mse: 0.0127 - val_msle: 0.0044\n",
      "Epoch 90/100\n",
      "500/500 [==============================] - 6s 12ms/step - loss: 0.0175 - mae: 0.0932 - mse: 0.0175 - msle: 0.0050 - val_loss: 0.0141 - val_mae: 0.0864 - val_mse: 0.0141 - val_msle: 0.0059\n",
      "Epoch 91/100\n",
      "500/500 [==============================] - 5s 11ms/step - loss: 0.0189 - mae: 0.0954 - mse: 0.0189 - msle: 0.0052 - val_loss: 0.0108 - val_mae: 0.0784 - val_mse: 0.0108 - val_msle: 0.0035\n",
      "Epoch 92/100\n",
      "500/500 [==============================] - 6s 12ms/step - loss: 0.0169 - mae: 0.0914 - mse: 0.0169 - msle: 0.0047 - val_loss: 0.0114 - val_mae: 0.0796 - val_mse: 0.0114 - val_msle: 0.0032\n",
      "Epoch 93/100\n",
      "500/500 [==============================] - 6s 11ms/step - loss: 0.0170 - mae: 0.0919 - mse: 0.0170 - msle: 0.0050 - val_loss: 0.0129 - val_mae: 0.0820 - val_mse: 0.0129 - val_msle: 0.0042\n",
      "Epoch 94/100\n",
      "500/500 [==============================] - 7s 15ms/step - loss: 0.0173 - mae: 0.0923 - mse: 0.0173 - msle: 0.0048 - val_loss: 0.0107 - val_mae: 0.0773 - val_mse: 0.0107 - val_msle: 0.0033\n",
      "Epoch 95/100\n",
      "500/500 [==============================] - 6s 12ms/step - loss: 0.0185 - mae: 0.0953 - mse: 0.0185 - msle: 0.0053 - val_loss: 0.0115 - val_mae: 0.0801 - val_mse: 0.0115 - val_msle: 0.0041\n",
      "Epoch 96/100\n",
      "500/500 [==============================] - 6s 12ms/step - loss: 0.0171 - mae: 0.0923 - mse: 0.0171 - msle: 0.0048 - val_loss: 0.0113 - val_mae: 0.0804 - val_mse: 0.0113 - val_msle: 0.0039\n",
      "Epoch 97/100\n",
      "500/500 [==============================] - 7s 14ms/step - loss: 0.0164 - mae: 0.0903 - mse: 0.0164 - msle: 0.0044 - val_loss: 0.0125 - val_mae: 0.0792 - val_mse: 0.0125 - val_msle: 0.0042\n",
      "Epoch 98/100\n",
      "500/500 [==============================] - 7s 14ms/step - loss: 0.0177 - mae: 0.0935 - mse: 0.0177 - msle: 0.0053 - val_loss: 0.0119 - val_mae: 0.0799 - val_mse: 0.0119 - val_msle: 0.0033\n",
      "Epoch 99/100\n",
      "500/500 [==============================] - 6s 12ms/step - loss: 0.0181 - mae: 0.0955 - mse: 0.0181 - msle: 0.0051 - val_loss: 0.0113 - val_mae: 0.0790 - val_mse: 0.0113 - val_msle: 0.0037\n",
      "Epoch 100/100\n",
      "500/500 [==============================] - 6s 12ms/step - loss: 0.0166 - mae: 0.0908 - mse: 0.0166 - msle: 0.0048 - val_loss: 0.0144 - val_mae: 0.0903 - val_mse: 0.0144 - val_msle: 0.0038\n"
     ]
    }
   ],
   "source": [
    "history = model.fit(train_dataset,\n",
    "                    epochs=100,\n",
    "                    validation_data=(test_dataset),\n",
    "                    verbose=1,\n",
    "                    callbacks=model_callbacks\n",
    "                    )"
   ]
  },
  {
   "cell_type": "markdown",
   "metadata": {},
   "source": [
    "### Test on data from the training set"
   ]
  },
  {
   "cell_type": "code",
   "execution_count": 33,
   "metadata": {},
   "outputs": [
    {
     "name": "stdout",
     "output_type": "stream",
     "text": [
      "---- With transformation ----\n",
      "true score:  [-0.03605732]\n",
      "predicted score:  [-0.06413081]\n",
      "\n",
      "---- Real score ----\n",
      "true score:  [-0.13]\n",
      "predicted score:  [-0.4112349]\n"
     ]
    }
   ],
   "source": [
    "from utils.process_tensors import reverse_transform_square_root_tensor\n",
    "import random\n",
    "\n",
    "k = random.randrange(0, 1000)\n",
    "n = 1\n",
    "\n",
    "x_test = input_tensor[k:k+n,:,:,:]\n",
    "y_test = transformed_tensor[k:k+n]\n",
    "\n",
    "y_pred = model.predict(x_test, verbose=0)\n",
    "\n",
    "print(\"---- With transformation ----\")\n",
    "print(\"true score: \", y_test.numpy())\n",
    "print(\"predicted score: \", y_pred[:,0])\n",
    "\n",
    "print(\"\\n---- Real score ----\")\n",
    "print(\"true score: \", reverse_transform_square_root_tensor(y_test, max_value).numpy())\n",
    "print(\"predicted score: \", reverse_transform_square_root_tensor(y_pred[:,0], max_value).numpy())"
   ]
  },
  {
   "cell_type": "markdown",
   "metadata": {},
   "source": [
    "### Tests on random board"
   ]
  },
  {
   "cell_type": "code",
   "execution_count": 51,
   "metadata": {},
   "outputs": [
    {
     "name": "stdout",
     "output_type": "stream",
     "text": [
      "1/1 [==============================] - 0s 18ms/step\n",
      "predicted transformed score:  -0.19987708\n",
      "\n",
      "True score:  5.22\n",
      "Predicted score:  -3.9946852\n"
     ]
    }
   ],
   "source": [
    "from utils.random_board import generate_random_board\n",
    "from utils.process_board import convert_board_to_array\n",
    "from utils.stockfish import get_score\n",
    "\n",
    "board = generate_random_board()\n",
    "score = get_score(board)\n",
    "x_test = tf.convert_to_tensor(convert_board_to_array(board, shape=shape))\n",
    "x_test = tf.expand_dims(x_test, axis=0)\n",
    "\n",
    "y_pred = model.predict(x_test)\n",
    "\n",
    "print(\"predicted transformed score: \", y_pred[0][0])\n",
    "\n",
    "print(\"\\nTrue score: \", score)\n",
    "print(\"Predicted score: \", reverse_transform_square_root_tensor(y_pred, max_value).numpy()[0][0])\n"
   ]
  }
 ],
 "metadata": {
  "kernelspec": {
   "display_name": "env",
   "language": "python",
   "name": "python3"
  },
  "language_info": {
   "codemirror_mode": {
    "name": "ipython",
    "version": 3
   },
   "file_extension": ".py",
   "mimetype": "text/x-python",
   "name": "python",
   "nbconvert_exporter": "python",
   "pygments_lexer": "ipython3",
   "version": "3.10.8"
  },
  "orig_nbformat": 4
 },
 "nbformat": 4,
 "nbformat_minor": 2
}
