{
 "cells": [
  {
   "cell_type": "markdown",
   "metadata": {},
   "source": [
    "### Tests GPU"
   ]
  },
  {
   "cell_type": "code",
   "execution_count": 1,
   "metadata": {},
   "outputs": [
    {
     "name": "stdout",
     "output_type": "stream",
     "text": [
      "Num GPUs Available:  1\n"
     ]
    }
   ],
   "source": [
    "import tensorflow as tf\n",
    "print(\"Num GPUs Available: \", len(tf.config.list_physical_devices('GPU')))"
   ]
  },
  {
   "cell_type": "markdown",
   "metadata": {},
   "source": [
    "### Load data"
   ]
  },
  {
   "cell_type": "code",
   "execution_count": 2,
   "metadata": {},
   "outputs": [
    {
     "name": "stdout",
     "output_type": "stream",
     "text": [
      "input tensor shape: (205000, 8, 8, 8)\n",
      "output tensor shape: (205000,)\n"
     ]
    }
   ],
   "source": [
    "from utils.process_tensors import load_tensor, normalize_tensor\n",
    "import tensorflow as tf\n",
    "\n",
    "# Parameters\n",
    "loss = 'mae'\n",
    "nb_layers = 3\n",
    "nb_filters = 32\n",
    "batch_size = 64\n",
    "shape = (8,8,8)\n",
    "\n",
    "train_ratio = .8\n",
    "\n",
    "random_boards_files = ['random1', 'random2', 'random3', 'random4']\n",
    "from_pgn_files = ['lichess1', 'lichess2', 'lichess3', 'lichess4', 'lichess5','lichess6', 'lichess7']\n",
    "file_names = from_pgn_files + random_boards_files\n",
    "\n",
    "input_tensor = None\n",
    "output_tensor = None\n",
    "for file_name in file_names:\n",
    "    load_path = f\"./data/{file_name}/\"\n",
    "    input_path = load_path + \"input\"\n",
    "    output_path = load_path + \"output\"\n",
    "    x = load_tensor(input_path, out_type=tf.int32)\n",
    "    y = load_tensor(output_path, out_type=tf.float32)\n",
    "    if input_tensor is None:\n",
    "        input_tensor = x\n",
    "        output_tensor = y\n",
    "    else:\n",
    "        input_tensor = tf.concat([input_tensor, x], axis=0)\n",
    "        output_tensor = tf.concat([output_tensor, y], axis=0)\n",
    "\n",
    "print('input tensor shape:', input_tensor.shape)\n",
    "print('output tensor shape:', output_tensor.shape)\n"
   ]
  },
  {
   "cell_type": "markdown",
   "metadata": {},
   "source": [
    "### Transform Data"
   ]
  },
  {
   "cell_type": "code",
   "execution_count": 3,
   "metadata": {},
   "outputs": [],
   "source": [
    "from utils.process_tensors import transform_square_root_tensor, reverse_transform_square_root_tensor\n",
    "\n",
    "max_value = tf.reduce_max(tf.abs(output_tensor)).numpy()\n",
    "transformed_tensor = transform_square_root_tensor(output_tensor, max_value=1.0)\n"
   ]
  },
  {
   "cell_type": "markdown",
   "metadata": {},
   "source": [
    "### Visualize data"
   ]
  },
  {
   "cell_type": "code",
   "execution_count": 4,
   "metadata": {},
   "outputs": [],
   "source": [
    "import matplotlib.pyplot as plt\n",
    "\n",
    "fig, axs = plt.subplots(1, 2, figsize=(20, 2.5))\n",
    "bins = 100\n",
    "axs[0].hist(output_tensor, bins=bins)\n",
    "axs[1].hist(transformed_tensor, bins=bins)\n",
    "print(f'max value of output_tensor: {max_value}')\n"
   ]
  },
  {
   "cell_type": "markdown",
   "metadata": {},
   "source": [
    "### Make Dataset + separate into train and test"
   ]
  },
  {
   "cell_type": "code",
   "execution_count": 60,
   "metadata": {},
   "outputs": [
    {
     "name": "stdout",
     "output_type": "stream",
     "text": [
      "Number of positions: 205000\n",
      "Number of batches: 64\n",
      "train size: 2563\n",
      "test size: 641\n"
     ]
    }
   ],
   "source": [
    "dataset:tf.data.Dataset = tf.data.Dataset.from_tensor_slices((input_tensor, transformed_tensor))\n",
    "print('Number of positions:',dataset.cardinality().numpy())\n",
    "\n",
    "# batch and shuffle\n",
    "dataset = dataset.batch(batch_size)\n",
    "dataset = dataset.prefetch(1)\n",
    "dataset = dataset.shuffle(buffer_size=dataset.cardinality().numpy())\n",
    "\n",
    "# split\n",
    "train_size = int(dataset.cardinality().numpy() * train_ratio)\n",
    "train_dataset = dataset.take(train_size)\n",
    "test_dataset = dataset.skip(train_size)\n",
    "\n",
    "print('Number of batches:',batch_size)\n",
    "print('train size:',train_dataset.cardinality().numpy())\n",
    "print('test size:',test_dataset.cardinality().numpy())"
   ]
  },
  {
   "cell_type": "markdown",
   "metadata": {},
   "source": [
    "### Model"
   ]
  },
  {
   "cell_type": "code",
   "execution_count": 61,
   "metadata": {},
   "outputs": [
    {
     "name": "stdout",
     "output_type": "stream",
     "text": [
      "Model: \"sequential_2\"\n",
      "_________________________________________________________________\n",
      " Layer (type)                Output Shape              Param #   \n",
      "=================================================================\n",
      " conv2d_4 (Conv2D)           (None, 8, 8, 32)          2336      \n",
      "                                                                 \n",
      " dropout_4 (Dropout)         (None, 8, 8, 32)          0         \n",
      "                                                                 \n",
      " conv2d_5 (Conv2D)           (None, 8, 8, 32)          9248      \n",
      "                                                                 \n",
      " dropout_5 (Dropout)         (None, 8, 8, 32)          0         \n",
      "                                                                 \n",
      " conv2d_6 (Conv2D)           (None, 8, 8, 32)          9248      \n",
      "                                                                 \n",
      " dropout_6 (Dropout)         (None, 8, 8, 32)          0         \n",
      "                                                                 \n",
      " flatten_2 (Flatten)         (None, 2048)              0         \n",
      "                                                                 \n",
      " dense_4 (Dense)             (None, 64)                131136    \n",
      "                                                                 \n",
      " dense_5 (Dense)             (None, 1)                 65        \n",
      "                                                                 \n",
      "=================================================================\n",
      "Total params: 152,033\n",
      "Trainable params: 152,033\n",
      "Non-trainable params: 0\n",
      "_________________________________________________________________\n"
     ]
    }
   ],
   "source": [
    "from utils.build_model import build_model\n",
    "\n",
    "model = build_model(nb_filters=nb_filters , nb_layers=nb_layers, shape=shape)\n",
    "model.compile(optimizer='adam', loss=loss, metrics=['mae', 'mse', 'msle'])\n",
    "model.summary()"
   ]
  },
  {
   "cell_type": "code",
   "execution_count": 63,
   "metadata": {},
   "outputs": [
    {
     "name": "stdout",
     "output_type": "stream",
     "text": [
      "checkpoint name: loss=mse-layers=3-filters=32-batchsize=64-shape=888-try=01\n"
     ]
    }
   ],
   "source": [
    "import os\n",
    "from utils.callback_setup import callback_setup, create_checkpoint_name\n",
    "# checkpoint_name = f\"{loss}_{nb_layers}_{nb_filters}_{batch_size}_02/\"\n",
    "\n",
    "checkpoint_name = create_checkpoint_name(loss=loss, nb_layers=nb_layers, nb_filters=nb_filters, batchsize=batch_size, shape=shape, try_nb=1)\n",
    "print('checkpoint name:',checkpoint_name)\n",
    "logs_dir = f'logs/{checkpoint_name}/'\n",
    "checkpoint_dir = os.path.join('backup', checkpoint_name)\n",
    "\n",
    "model_callbacks = callback_setup(checkpoint_dir, logs_dir, monitor='loss', mode='min')"
   ]
  },
  {
   "cell_type": "markdown",
   "metadata": {},
   "source": [
    "### Load Weights"
   ]
  },
  {
   "cell_type": "code",
   "execution_count": 67,
   "metadata": {},
   "outputs": [
    {
     "name": "stdout",
     "output_type": "stream",
     "text": [
      "No checkpoint found.\n"
     ]
    }
   ],
   "source": [
    "# checkpoint_name = \"loss=mse-layers=3-filters=32-batchsize=16-shape=888-try=01\"\n",
    "try:\n",
    "    checkpoint_filepath = os.path.join('backup', checkpoint_name)\n",
    "\n",
    "    model.load_weights(checkpoint_filepath)\n",
    "except:\n",
    "    print(\"No checkpoint found.\")\n",
    "    pass"
   ]
  },
  {
   "cell_type": "code",
   "execution_count": 54,
   "metadata": {},
   "outputs": [
    {
     "name": "stdout",
     "output_type": "stream",
     "text": [
      "Epoch 1/50\n",
      "1281/1281 [==============================] - 13s 8ms/step - loss: 0.0586 - mae: 0.1606 - mse: 0.0586 - msle: 0.0138 - val_loss: 0.0499 - val_mae: 0.1472 - val_mse: 0.0499 - val_msle: 0.0135\n",
      "Epoch 2/50\n",
      "1281/1281 [==============================] - 13s 10ms/step - loss: 0.0487 - mae: 0.1445 - mse: 0.0487 - msle: 0.0116 - val_loss: 0.0454 - val_mae: 0.1379 - val_mse: 0.0454 - val_msle: 0.0099\n",
      "Epoch 3/50\n",
      "1281/1281 [==============================] - 13s 10ms/step - loss: 0.0467 - mae: 0.1403 - mse: 0.0467 - msle: 0.0111 - val_loss: 0.0430 - val_mae: 0.1352 - val_mse: 0.0430 - val_msle: 0.0105\n",
      "Epoch 4/50\n",
      "1281/1281 [==============================] - 12s 9ms/step - loss: 0.0456 - mae: 0.1385 - mse: 0.0456 - msle: 0.0109 - val_loss: 0.0422 - val_mae: 0.1310 - val_mse: 0.0422 - val_msle: 0.0099\n",
      "Epoch 5/50\n",
      "1281/1281 [==============================] - 13s 10ms/step - loss: 0.0447 - mae: 0.1365 - mse: 0.0447 - msle: 0.0107 - val_loss: 0.0414 - val_mae: 0.1297 - val_mse: 0.0414 - val_msle: 0.0100\n",
      "Epoch 6/50\n",
      "1281/1281 [==============================] - 13s 10ms/step - loss: 0.0437 - mae: 0.1343 - mse: 0.0437 - msle: 0.0104 - val_loss: 0.0403 - val_mae: 0.1252 - val_mse: 0.0403 - val_msle: 0.0096\n",
      "Epoch 7/50\n",
      "1281/1281 [==============================] - 14s 10ms/step - loss: 0.0436 - mae: 0.1347 - mse: 0.0436 - msle: 0.0104 - val_loss: 0.0389 - val_mae: 0.1240 - val_mse: 0.0389 - val_msle: 0.0092\n",
      "Epoch 8/50\n",
      "1281/1281 [==============================] - 12s 9ms/step - loss: 0.0428 - mae: 0.1327 - mse: 0.0428 - msle: 0.0102 - val_loss: 0.0373 - val_mae: 0.1222 - val_mse: 0.0373 - val_msle: 0.0091\n",
      "Epoch 9/50\n",
      "1281/1281 [==============================] - 13s 10ms/step - loss: 0.0423 - mae: 0.1318 - mse: 0.0423 - msle: 0.0100 - val_loss: 0.0392 - val_mae: 0.1270 - val_mse: 0.0392 - val_msle: 0.0096\n",
      "Epoch 10/50\n",
      "1281/1281 [==============================] - 13s 10ms/step - loss: 0.0425 - mae: 0.1323 - mse: 0.0425 - msle: 0.0101 - val_loss: 0.0377 - val_mae: 0.1228 - val_mse: 0.0377 - val_msle: 0.0089\n",
      "Epoch 11/50\n",
      "1281/1281 [==============================] - 11s 9ms/step - loss: 0.0422 - mae: 0.1316 - mse: 0.0422 - msle: 0.0101 - val_loss: 0.0378 - val_mae: 0.1242 - val_mse: 0.0378 - val_msle: 0.0098\n",
      "Epoch 12/50\n",
      "1281/1281 [==============================] - 12s 9ms/step - loss: 0.0416 - mae: 0.1310 - mse: 0.0416 - msle: 0.0099 - val_loss: 0.0388 - val_mae: 0.1258 - val_mse: 0.0388 - val_msle: 0.0099\n",
      "Epoch 13/50\n",
      "1281/1281 [==============================] - 12s 9ms/step - loss: 0.0412 - mae: 0.1307 - mse: 0.0412 - msle: 0.0099 - val_loss: 0.0379 - val_mae: 0.1222 - val_mse: 0.0379 - val_msle: 0.0092\n",
      "Epoch 14/50\n",
      "1281/1281 [==============================] - 12s 9ms/step - loss: 0.0411 - mae: 0.1300 - mse: 0.0411 - msle: 0.0099 - val_loss: 0.0372 - val_mae: 0.1225 - val_mse: 0.0372 - val_msle: 0.0093\n",
      "Epoch 15/50\n",
      " 745/1281 [================>.............] - ETA: 4s - loss: 0.0411 - mae: 0.1300 - mse: 0.0411 - msle: 0.0099WARNING:tensorflow:Detecting that an object or model or tf.train.Checkpoint is being deleted with unrestored values. See the following logs for the specific values in question. To silence these warnings, use `status.expect_partial()`. See https://www.tensorflow.org/api_docs/python/tf/train/Checkpoint#restorefor details about the status object returned by the restore function.\n",
      "WARNING:tensorflow:Value in checkpoint could not be found in the restored object: (root).optimizer.iter\n",
      "WARNING:tensorflow:Value in checkpoint could not be found in the restored object: (root).optimizer.beta_1\n",
      "WARNING:tensorflow:Value in checkpoint could not be found in the restored object: (root).optimizer.beta_2\n",
      "WARNING:tensorflow:Value in checkpoint could not be found in the restored object: (root).optimizer.decay\n",
      "WARNING:tensorflow:Value in checkpoint could not be found in the restored object: (root).optimizer.learning_rate\n"
     ]
    },
    {
     "ename": "KeyboardInterrupt",
     "evalue": "",
     "output_type": "error",
     "traceback": [
      "\u001b[1;31m---------------------------------------------------------------------------\u001b[0m",
      "\u001b[1;31mKeyboardInterrupt\u001b[0m                         Traceback (most recent call last)",
      "\u001b[1;32mc:\\Users\\barry\\OneDrive\\Bureau\\Projects\\chess\\backend\\test2\\workflow.ipynb Cell 16\u001b[0m in \u001b[0;36m1\n\u001b[1;32m----> <a href='vscode-notebook-cell:/c%3A/Users/barry/OneDrive/Bureau/Projects/chess/backend/test2/workflow.ipynb#X12sZmlsZQ%3D%3D?line=0'>1</a>\u001b[0m history \u001b[39m=\u001b[39m model\u001b[39m.\u001b[39;49mfit(train_dataset,\n\u001b[0;32m      <a href='vscode-notebook-cell:/c%3A/Users/barry/OneDrive/Bureau/Projects/chess/backend/test2/workflow.ipynb#X12sZmlsZQ%3D%3D?line=1'>2</a>\u001b[0m                     epochs\u001b[39m=\u001b[39;49m\u001b[39m50\u001b[39;49m,\n\u001b[0;32m      <a href='vscode-notebook-cell:/c%3A/Users/barry/OneDrive/Bureau/Projects/chess/backend/test2/workflow.ipynb#X12sZmlsZQ%3D%3D?line=2'>3</a>\u001b[0m                     validation_data\u001b[39m=\u001b[39;49m(test_dataset),\n\u001b[0;32m      <a href='vscode-notebook-cell:/c%3A/Users/barry/OneDrive/Bureau/Projects/chess/backend/test2/workflow.ipynb#X12sZmlsZQ%3D%3D?line=3'>4</a>\u001b[0m                     verbose\u001b[39m=\u001b[39;49m\u001b[39m1\u001b[39;49m,\n\u001b[0;32m      <a href='vscode-notebook-cell:/c%3A/Users/barry/OneDrive/Bureau/Projects/chess/backend/test2/workflow.ipynb#X12sZmlsZQ%3D%3D?line=4'>5</a>\u001b[0m                     callbacks\u001b[39m=\u001b[39;49mmodel_callbacks\n\u001b[0;32m      <a href='vscode-notebook-cell:/c%3A/Users/barry/OneDrive/Bureau/Projects/chess/backend/test2/workflow.ipynb#X12sZmlsZQ%3D%3D?line=5'>6</a>\u001b[0m                     )\n",
      "File \u001b[1;32mc:\\Users\\barry\\AppData\\Local\\Programs\\Python\\Python310\\lib\\site-packages\\keras\\utils\\traceback_utils.py:65\u001b[0m, in \u001b[0;36mfilter_traceback.<locals>.error_handler\u001b[1;34m(*args, **kwargs)\u001b[0m\n\u001b[0;32m     63\u001b[0m filtered_tb \u001b[39m=\u001b[39m \u001b[39mNone\u001b[39;00m\n\u001b[0;32m     64\u001b[0m \u001b[39mtry\u001b[39;00m:\n\u001b[1;32m---> 65\u001b[0m     \u001b[39mreturn\u001b[39;00m fn(\u001b[39m*\u001b[39margs, \u001b[39m*\u001b[39m\u001b[39m*\u001b[39mkwargs)\n\u001b[0;32m     66\u001b[0m \u001b[39mexcept\u001b[39;00m \u001b[39mException\u001b[39;00m \u001b[39mas\u001b[39;00m e:\n\u001b[0;32m     67\u001b[0m     filtered_tb \u001b[39m=\u001b[39m _process_traceback_frames(e\u001b[39m.\u001b[39m__traceback__)\n",
      "File \u001b[1;32mc:\\Users\\barry\\AppData\\Local\\Programs\\Python\\Python310\\lib\\site-packages\\keras\\engine\\training.py:1564\u001b[0m, in \u001b[0;36mModel.fit\u001b[1;34m(self, x, y, batch_size, epochs, verbose, callbacks, validation_split, validation_data, shuffle, class_weight, sample_weight, initial_epoch, steps_per_epoch, validation_steps, validation_batch_size, validation_freq, max_queue_size, workers, use_multiprocessing)\u001b[0m\n\u001b[0;32m   1556\u001b[0m \u001b[39mwith\u001b[39;00m tf\u001b[39m.\u001b[39mprofiler\u001b[39m.\u001b[39mexperimental\u001b[39m.\u001b[39mTrace(\n\u001b[0;32m   1557\u001b[0m     \u001b[39m\"\u001b[39m\u001b[39mtrain\u001b[39m\u001b[39m\"\u001b[39m,\n\u001b[0;32m   1558\u001b[0m     epoch_num\u001b[39m=\u001b[39mepoch,\n\u001b[1;32m   (...)\u001b[0m\n\u001b[0;32m   1561\u001b[0m     _r\u001b[39m=\u001b[39m\u001b[39m1\u001b[39m,\n\u001b[0;32m   1562\u001b[0m ):\n\u001b[0;32m   1563\u001b[0m     callbacks\u001b[39m.\u001b[39mon_train_batch_begin(step)\n\u001b[1;32m-> 1564\u001b[0m     tmp_logs \u001b[39m=\u001b[39m \u001b[39mself\u001b[39;49m\u001b[39m.\u001b[39;49mtrain_function(iterator)\n\u001b[0;32m   1565\u001b[0m     \u001b[39mif\u001b[39;00m data_handler\u001b[39m.\u001b[39mshould_sync:\n\u001b[0;32m   1566\u001b[0m         context\u001b[39m.\u001b[39masync_wait()\n",
      "File \u001b[1;32mc:\\Users\\barry\\AppData\\Local\\Programs\\Python\\Python310\\lib\\site-packages\\tensorflow\\python\\util\\traceback_utils.py:150\u001b[0m, in \u001b[0;36mfilter_traceback.<locals>.error_handler\u001b[1;34m(*args, **kwargs)\u001b[0m\n\u001b[0;32m    148\u001b[0m filtered_tb \u001b[39m=\u001b[39m \u001b[39mNone\u001b[39;00m\n\u001b[0;32m    149\u001b[0m \u001b[39mtry\u001b[39;00m:\n\u001b[1;32m--> 150\u001b[0m   \u001b[39mreturn\u001b[39;00m fn(\u001b[39m*\u001b[39margs, \u001b[39m*\u001b[39m\u001b[39m*\u001b[39mkwargs)\n\u001b[0;32m    151\u001b[0m \u001b[39mexcept\u001b[39;00m \u001b[39mException\u001b[39;00m \u001b[39mas\u001b[39;00m e:\n\u001b[0;32m    152\u001b[0m   filtered_tb \u001b[39m=\u001b[39m _process_traceback_frames(e\u001b[39m.\u001b[39m__traceback__)\n",
      "File \u001b[1;32mc:\\Users\\barry\\AppData\\Local\\Programs\\Python\\Python310\\lib\\site-packages\\tensorflow\\python\\eager\\def_function.py:915\u001b[0m, in \u001b[0;36mFunction.__call__\u001b[1;34m(self, *args, **kwds)\u001b[0m\n\u001b[0;32m    912\u001b[0m compiler \u001b[39m=\u001b[39m \u001b[39m\"\u001b[39m\u001b[39mxla\u001b[39m\u001b[39m\"\u001b[39m \u001b[39mif\u001b[39;00m \u001b[39mself\u001b[39m\u001b[39m.\u001b[39m_jit_compile \u001b[39melse\u001b[39;00m \u001b[39m\"\u001b[39m\u001b[39mnonXla\u001b[39m\u001b[39m\"\u001b[39m\n\u001b[0;32m    914\u001b[0m \u001b[39mwith\u001b[39;00m OptionalXlaContext(\u001b[39mself\u001b[39m\u001b[39m.\u001b[39m_jit_compile):\n\u001b[1;32m--> 915\u001b[0m   result \u001b[39m=\u001b[39m \u001b[39mself\u001b[39m\u001b[39m.\u001b[39m_call(\u001b[39m*\u001b[39margs, \u001b[39m*\u001b[39m\u001b[39m*\u001b[39mkwds)\n\u001b[0;32m    917\u001b[0m new_tracing_count \u001b[39m=\u001b[39m \u001b[39mself\u001b[39m\u001b[39m.\u001b[39mexperimental_get_tracing_count()\n\u001b[0;32m    918\u001b[0m without_tracing \u001b[39m=\u001b[39m (tracing_count \u001b[39m==\u001b[39m new_tracing_count)\n",
      "File \u001b[1;32mc:\\Users\\barry\\AppData\\Local\\Programs\\Python\\Python310\\lib\\site-packages\\tensorflow\\python\\eager\\def_function.py:947\u001b[0m, in \u001b[0;36mFunction._call\u001b[1;34m(self, *args, **kwds)\u001b[0m\n\u001b[0;32m    944\u001b[0m   \u001b[39mself\u001b[39m\u001b[39m.\u001b[39m_lock\u001b[39m.\u001b[39mrelease()\n\u001b[0;32m    945\u001b[0m   \u001b[39m# In this case we have created variables on the first call, so we run the\u001b[39;00m\n\u001b[0;32m    946\u001b[0m   \u001b[39m# defunned version which is guaranteed to never create variables.\u001b[39;00m\n\u001b[1;32m--> 947\u001b[0m   \u001b[39mreturn\u001b[39;00m \u001b[39mself\u001b[39m\u001b[39m.\u001b[39m_stateless_fn(\u001b[39m*\u001b[39margs, \u001b[39m*\u001b[39m\u001b[39m*\u001b[39mkwds)  \u001b[39m# pylint: disable=not-callable\u001b[39;00m\n\u001b[0;32m    948\u001b[0m \u001b[39melif\u001b[39;00m \u001b[39mself\u001b[39m\u001b[39m.\u001b[39m_stateful_fn \u001b[39mis\u001b[39;00m \u001b[39mnot\u001b[39;00m \u001b[39mNone\u001b[39;00m:\n\u001b[0;32m    949\u001b[0m   \u001b[39m# Release the lock early so that multiple threads can perform the call\u001b[39;00m\n\u001b[0;32m    950\u001b[0m   \u001b[39m# in parallel.\u001b[39;00m\n\u001b[0;32m    951\u001b[0m   \u001b[39mself\u001b[39m\u001b[39m.\u001b[39m_lock\u001b[39m.\u001b[39mrelease()\n",
      "File \u001b[1;32mc:\\Users\\barry\\AppData\\Local\\Programs\\Python\\Python310\\lib\\site-packages\\tensorflow\\python\\eager\\function.py:2496\u001b[0m, in \u001b[0;36mFunction.__call__\u001b[1;34m(self, *args, **kwargs)\u001b[0m\n\u001b[0;32m   2493\u001b[0m \u001b[39mwith\u001b[39;00m \u001b[39mself\u001b[39m\u001b[39m.\u001b[39m_lock:\n\u001b[0;32m   2494\u001b[0m   (graph_function,\n\u001b[0;32m   2495\u001b[0m    filtered_flat_args) \u001b[39m=\u001b[39m \u001b[39mself\u001b[39m\u001b[39m.\u001b[39m_maybe_define_function(args, kwargs)\n\u001b[1;32m-> 2496\u001b[0m \u001b[39mreturn\u001b[39;00m graph_function\u001b[39m.\u001b[39;49m_call_flat(\n\u001b[0;32m   2497\u001b[0m     filtered_flat_args, captured_inputs\u001b[39m=\u001b[39;49mgraph_function\u001b[39m.\u001b[39;49mcaptured_inputs)\n",
      "File \u001b[1;32mc:\\Users\\barry\\AppData\\Local\\Programs\\Python\\Python310\\lib\\site-packages\\tensorflow\\python\\eager\\function.py:1862\u001b[0m, in \u001b[0;36mConcreteFunction._call_flat\u001b[1;34m(self, args, captured_inputs, cancellation_manager)\u001b[0m\n\u001b[0;32m   1858\u001b[0m possible_gradient_type \u001b[39m=\u001b[39m gradients_util\u001b[39m.\u001b[39mPossibleTapeGradientTypes(args)\n\u001b[0;32m   1859\u001b[0m \u001b[39mif\u001b[39;00m (possible_gradient_type \u001b[39m==\u001b[39m gradients_util\u001b[39m.\u001b[39mPOSSIBLE_GRADIENT_TYPES_NONE\n\u001b[0;32m   1860\u001b[0m     \u001b[39mand\u001b[39;00m executing_eagerly):\n\u001b[0;32m   1861\u001b[0m   \u001b[39m# No tape is watching; skip to running the function.\u001b[39;00m\n\u001b[1;32m-> 1862\u001b[0m   \u001b[39mreturn\u001b[39;00m \u001b[39mself\u001b[39m\u001b[39m.\u001b[39m_build_call_outputs(\u001b[39mself\u001b[39;49m\u001b[39m.\u001b[39;49m_inference_function\u001b[39m.\u001b[39;49mcall(\n\u001b[0;32m   1863\u001b[0m       ctx, args, cancellation_manager\u001b[39m=\u001b[39;49mcancellation_manager))\n\u001b[0;32m   1864\u001b[0m forward_backward \u001b[39m=\u001b[39m \u001b[39mself\u001b[39m\u001b[39m.\u001b[39m_select_forward_and_backward_functions(\n\u001b[0;32m   1865\u001b[0m     args,\n\u001b[0;32m   1866\u001b[0m     possible_gradient_type,\n\u001b[0;32m   1867\u001b[0m     executing_eagerly)\n\u001b[0;32m   1868\u001b[0m forward_function, args_with_tangents \u001b[39m=\u001b[39m forward_backward\u001b[39m.\u001b[39mforward()\n",
      "File \u001b[1;32mc:\\Users\\barry\\AppData\\Local\\Programs\\Python\\Python310\\lib\\site-packages\\tensorflow\\python\\eager\\function.py:499\u001b[0m, in \u001b[0;36m_EagerDefinedFunction.call\u001b[1;34m(self, ctx, args, cancellation_manager)\u001b[0m\n\u001b[0;32m    497\u001b[0m \u001b[39mwith\u001b[39;00m _InterpolateFunctionError(\u001b[39mself\u001b[39m):\n\u001b[0;32m    498\u001b[0m   \u001b[39mif\u001b[39;00m cancellation_manager \u001b[39mis\u001b[39;00m \u001b[39mNone\u001b[39;00m:\n\u001b[1;32m--> 499\u001b[0m     outputs \u001b[39m=\u001b[39m execute\u001b[39m.\u001b[39;49mexecute(\n\u001b[0;32m    500\u001b[0m         \u001b[39mstr\u001b[39;49m(\u001b[39mself\u001b[39;49m\u001b[39m.\u001b[39;49msignature\u001b[39m.\u001b[39;49mname),\n\u001b[0;32m    501\u001b[0m         num_outputs\u001b[39m=\u001b[39;49m\u001b[39mself\u001b[39;49m\u001b[39m.\u001b[39;49m_num_outputs,\n\u001b[0;32m    502\u001b[0m         inputs\u001b[39m=\u001b[39;49margs,\n\u001b[0;32m    503\u001b[0m         attrs\u001b[39m=\u001b[39;49mattrs,\n\u001b[0;32m    504\u001b[0m         ctx\u001b[39m=\u001b[39;49mctx)\n\u001b[0;32m    505\u001b[0m   \u001b[39melse\u001b[39;00m:\n\u001b[0;32m    506\u001b[0m     outputs \u001b[39m=\u001b[39m execute\u001b[39m.\u001b[39mexecute_with_cancellation(\n\u001b[0;32m    507\u001b[0m         \u001b[39mstr\u001b[39m(\u001b[39mself\u001b[39m\u001b[39m.\u001b[39msignature\u001b[39m.\u001b[39mname),\n\u001b[0;32m    508\u001b[0m         num_outputs\u001b[39m=\u001b[39m\u001b[39mself\u001b[39m\u001b[39m.\u001b[39m_num_outputs,\n\u001b[1;32m   (...)\u001b[0m\n\u001b[0;32m    511\u001b[0m         ctx\u001b[39m=\u001b[39mctx,\n\u001b[0;32m    512\u001b[0m         cancellation_manager\u001b[39m=\u001b[39mcancellation_manager)\n",
      "File \u001b[1;32mc:\\Users\\barry\\AppData\\Local\\Programs\\Python\\Python310\\lib\\site-packages\\tensorflow\\python\\eager\\execute.py:54\u001b[0m, in \u001b[0;36mquick_execute\u001b[1;34m(op_name, num_outputs, inputs, attrs, ctx, name)\u001b[0m\n\u001b[0;32m     52\u001b[0m \u001b[39mtry\u001b[39;00m:\n\u001b[0;32m     53\u001b[0m   ctx\u001b[39m.\u001b[39mensure_initialized()\n\u001b[1;32m---> 54\u001b[0m   tensors \u001b[39m=\u001b[39m pywrap_tfe\u001b[39m.\u001b[39;49mTFE_Py_Execute(ctx\u001b[39m.\u001b[39;49m_handle, device_name, op_name,\n\u001b[0;32m     55\u001b[0m                                       inputs, attrs, num_outputs)\n\u001b[0;32m     56\u001b[0m \u001b[39mexcept\u001b[39;00m core\u001b[39m.\u001b[39m_NotOkStatusException \u001b[39mas\u001b[39;00m e:\n\u001b[0;32m     57\u001b[0m   \u001b[39mif\u001b[39;00m name \u001b[39mis\u001b[39;00m \u001b[39mnot\u001b[39;00m \u001b[39mNone\u001b[39;00m:\n",
      "\u001b[1;31mKeyboardInterrupt\u001b[0m: "
     ]
    }
   ],
   "source": [
    "history = model.fit(train_dataset,\n",
    "                    epochs=50,\n",
    "                    validation_data=(test_dataset),\n",
    "                    verbose=1,\n",
    "                    callbacks=model_callbacks\n",
    "                    )"
   ]
  },
  {
   "cell_type": "markdown",
   "metadata": {},
   "source": [
    "### Test on data from the training set"
   ]
  },
  {
   "cell_type": "code",
   "execution_count": 46,
   "metadata": {},
   "outputs": [
    {
     "name": "stdout",
     "output_type": "stream",
     "text": [
      "---- With transformation ----\n",
      "true score:  [0.08426572]\n",
      "predicted score:  [0.1292356]\n",
      "\n",
      "---- Real score ----\n",
      "true score:  [0.71000004]\n",
      "predicted score:  [1.6700169]\n"
     ]
    }
   ],
   "source": [
    "from utils.process_tensors import reverse_transform_square_root_tensor\n",
    "import random\n",
    "\n",
    "k = random.randrange(0, 1000)\n",
    "n = 1\n",
    "\n",
    "x_test = input_tensor[k:k+n,:,:,:]\n",
    "y_test = transformed_tensor[k:k+n]\n",
    "\n",
    "y_pred = model.predict(x_test, verbose=0)\n",
    "\n",
    "print(\"---- With transformation ----\")\n",
    "print(\"true score: \", y_test.numpy())\n",
    "print(\"predicted score: \", y_pred[:,0])\n",
    "\n",
    "print(\"\\n---- Real score ----\")\n",
    "print(\"true score: \", reverse_transform_square_root_tensor(y_test, max_value).numpy())\n",
    "print(\"predicted score: \", reverse_transform_square_root_tensor(y_pred[:,0], max_value).numpy())"
   ]
  },
  {
   "cell_type": "markdown",
   "metadata": {},
   "source": [
    "### Tests on random board"
   ]
  },
  {
   "cell_type": "code",
   "execution_count": 38,
   "metadata": {},
   "outputs": [
    {
     "name": "stdout",
     "output_type": "stream",
     "text": [
      "1/1 [==============================] - 0s 31ms/step\n",
      "predicted transformed score:  0.8371248\n",
      "\n",
      "True score:  39.01\n",
      "Predicted score:  70.070786\n"
     ]
    }
   ],
   "source": [
    "from utils.random_board import generate_random_board\n",
    "from utils.process_board import convert_board_to_array\n",
    "from utils.stockfish import get_score\n",
    "\n",
    "board = generate_random_board()\n",
    "score = get_score(board)\n",
    "x_test = tf.convert_to_tensor(convert_board_to_array(board, shape=shape))\n",
    "x_test = tf.expand_dims(x_test, axis=0)\n",
    "\n",
    "y_pred = model.predict(x_test)\n",
    "\n",
    "print(\"predicted transformed score: \", y_pred[0][0])\n",
    "\n",
    "print(\"\\nTrue score: \", score)\n",
    "print(\"Predicted score: \", reverse_transform_square_root_tensor(y_pred, max_value).numpy()[0][0])\n"
   ]
  }
 ],
 "metadata": {
  "kernelspec": {
   "display_name": "env",
   "language": "python",
   "name": "python3"
  },
  "language_info": {
   "codemirror_mode": {
    "name": "ipython",
    "version": 3
   },
   "file_extension": ".py",
   "mimetype": "text/x-python",
   "name": "python",
   "nbconvert_exporter": "python",
   "pygments_lexer": "ipython3",
   "version": "3.10.8"
  },
  "orig_nbformat": 4
 },
 "nbformat": 4,
 "nbformat_minor": 2
}
