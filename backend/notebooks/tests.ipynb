{
 "cells": [
  {
   "cell_type": "markdown",
   "metadata": {},
   "source": [
    "### Test with ELO threshold"
   ]
  },
  {
   "cell_type": "code",
   "execution_count": 28,
   "metadata": {},
   "outputs": [
    {
     "name": "stdout",
     "output_type": "stream",
     "text": [
      "4227\n"
     ]
    }
   ],
   "source": [
    "# from model.game import Game\n",
    "\n",
    "# file = open(\"../data/data.pgn\", mode=\"r\")\n",
    "# white_elo, black_elo, game = 0, 0, \"\"\n",
    "# elo_thres = 2000\n",
    "\n",
    "# games = []\n",
    "# for i, row in enumerate(file):\n",
    "\n",
    "#     if \"WhiteElo\" in row:  # white elo\n",
    "#         try:\n",
    "#             white_elo = int(row.split('\"')[1])\n",
    "#         except:\n",
    "#             #print(i, white_elo)\n",
    "#             white_elo = 0\n",
    "\n",
    "#     elif \"BlackElo\" in row:  # black elo\n",
    "#         try:\n",
    "#             black_elo = int(row.split('\"')[1])\n",
    "#         except:\n",
    "#             #print(i, black_elo)\n",
    "#             black_elo = 0\n",
    "\n",
    "#     elif row[0] == '1':  # game: save and reset\n",
    "#         if white_elo > elo_thres and black_elo > elo_thres:\n",
    "#             games.append(Game(white_elo=white_elo, black_elo=black_elo, game=row))\n",
    "#         white_elo, black_elo, game = 0, 0, \"\"\n",
    "        \n",
    "# print(len(games))"
   ]
  },
  {
   "cell_type": "code",
   "execution_count": 29,
   "metadata": {},
   "outputs": [
    {
     "name": "stdout",
     "output_type": "stream",
     "text": [
      "white_elo: 2041\n",
      "black_elo: 2041\n",
      "1. e4 c5 2. Nf3 d6 3. c3 Nf6 4. Bd3 Nc6 5. Bc2 e5 6. h3 Be6 7. O-O Be7 8. Qe2 O-O 9. Rd1 Re8 10. d4 Bc8 11. a4 cxd4 12. cxd4 exd4 13. Nxd4 Nxd4 14. Rxd4 Be6 15. Nc3 Rc8 16. Bf4 Qb6 17. Rad1 Qxb2 18. Nb5 Rxc2 0-1\n",
      "\n"
     ]
    }
   ],
   "source": [
    "print(games[20])"
   ]
  },
  {
   "cell_type": "markdown",
   "metadata": {},
   "source": [
    "### Test filter with eval"
   ]
  },
  {
   "cell_type": "code",
   "execution_count": 1,
   "metadata": {},
   "outputs": [
    {
     "name": "stdout",
     "output_type": "stream",
     "text": [
      "1717\n"
     ]
    }
   ],
   "source": [
    "file = open(\"../data/data.pgn\", mode=\"r\")\n",
    "\n",
    "games = []\n",
    "for i, row in enumerate(file):\n",
    "    ## if not a game, continue\n",
    "    if row[0] != '1':\n",
    "        continue\n",
    "    #if the row doesnt contains evaluation, continue\n",
    "    if \"eval\" not in row:\n",
    "        continue\n",
    "    games.append(row)\n",
    "\n",
    "print(len(games))"
   ]
  },
  {
   "cell_type": "code",
   "execution_count": 31,
   "metadata": {},
   "outputs": [
    {
     "name": "stdout",
     "output_type": "stream",
     "text": [
      "1. e4 { [%eval 0.28] } 1... c6 { [%eval 0.54] } 2. Bc4?! { [%eval -0.32] } 2... d5 { [%eval -0.27] } 3. exd5 { [%eval -0.32] } 3... cxd5 { [%eval -0.32] } 4. Bb5+ { [%eval -0.36] } 4... Nc6 { [%eval -0.16] } 5. Bxc6+ { [%eval -0.42] } 5... bxc6 { [%eval -0.6] } 6. Nf3 { [%eval -0.48] } 6... Nf6 { [%eval -0.44] } 7. O-O { [%eval -0.5] } 7... Bg4 { [%eval -0.35] } 8. h3 { [%eval -0.37] } 8... Bh5 { [%eval -0.3] } 9. d3 { [%eval -0.3] } 9... e6 { [%eval -0.31] } 10. Nbd2 { [%eval -0.58] } 10... Bd6 { [%eval -0.53] } 11. Qe1 { [%eval -0.57] } 11... O-O { [%eval -0.32] } 12. a3?! { [%eval -0.94] } 12... Rb8 { [%eval -0.84] } 13. Ne5 { [%eval -0.63] } 13... Qc7 { [%eval -0.74] } 14. d4?! { [%eval -1.46] } 14... c5 { [%eval -1.44] } 15. c3 { [%eval -1.56] } 15... cxd4 { [%eval -1.44] } 16. cxd4 { [%eval -1.45] } 16... Nd7 { [%eval -1.33] } 17. Nxd7 { [%eval -1.21] } 17... Qxd7 { [%eval -1.23] } 18. Nf3?! { [%eval -2.11] } 18... Bxf3 { [%eval -2.0] } 19. gxf3 { [%eval -1.98] } 19... Bc7 { [%eval -1.94] } 20. f4?! { [%eval -2.52] } 20... Qe7? { [%eval -1.44] } 21. Qe3 { [%eval -1.5] } 21... Qf6 { [%eval -1.46] } 22. Qg3?! { [%eval -2.0] } 22... Qxd4 { [%eval -1.93] } 23. Be3?! { [%eval -2.55] } 23... Qf6?! { [%eval -1.66] } 24. Rab1?! { [%eval -2.39] } 24... Rxb2 { [%eval -2.27] } 25. Rxb2 { [%eval -2.46] } 25... Qxb2 { [%eval -2.51] } 26. Bd2?? { [%eval -7.44] } 26... Qxa3?? { [%eval 8.42] } 27. Bc1?? { [%eval -4.08] } 27... Qxg3+ { [%eval -4.04] } 28. fxg3 { [%eval -4.14] } 28... Bb6+ { [%eval -4.19] } 29. Kg2 { [%eval -4.23] } 29... Rc8 { [%eval -4.35] } 30. Bd2?? { [%eval -7.74] } 30... Rc2 { [%eval -7.69] } 31. Rd1 { [%eval -7.55] } 31... Ba5 { [%eval -7.68] } 32. Kf3 { [%eval -7.72] } 32... Rxd2 { [%eval -7.8] } 33. Rxd2? { [%eval -15.25] } 33... Bxd2 { [%eval -9.32] } 34. Ke2 { [%eval -10.08] } 34... Bb4 { [%eval -18.36] } 35. Kd3 { [%eval -23.96] } 35... a5 { [%eval -17.01] } 36. Kc2 { [%eval -18.44] } 36... Kf8 { [%eval -10.17] } 37. g4 { [%eval -13.91] } 37... Ke7 { [%eval -10.92] } 38. h4 { [%eval -20.05] } 38... Kd6 { [%eval -19.3] } 39. f5 { [%eval -27.01] } 39... exf5 { [%eval #-13] } 40. gxf5 { [%eval #-13] } 40... Kc5 { [%eval #-12] } 41. h5 { [%eval #-13] } 41... d4 { [%eval #-11] } 42. f6 { [%eval #-11] } 42... gxf6 { [%eval #-10] } 43. h6 { [%eval #-7] } 43... Kc4 { [%eval #-6] } 44. Kc1 { [%eval #-6] } 44... d3 { [%eval #-5] } 45. Kd1 { [%eval #-5] } 45... Kc3?! { [%eval #-7] } 46. Kc1 { [%eval #-5] } 46... d2+?! { [%eval #-6] } 47. Kd1 { [%eval #-6] } 47... Ba3 { [%eval #-6] } 48. Ke2 { [%eval #-6] } 48... Kc2 { [%eval #-5] } 49. Ke3 { [%eval #-5] } 49... d1=Q { [%eval #-4] } 50. Ke4 { [%eval #-2] } 50... Qd6?! { [%eval #-4] } 51. Kf3 { [%eval #-4] } 51... Qe5?! { [%eval #-4] } 52. Kg4 { [%eval #-4] } 52... Qg5+?! { [%eval #-4] } 53. Kf3 { [%eval #-4] } 53... Bc5 { [%eval #-3] } 54. Ke4 { [%eval #-3] } 1-0\n",
      "\n"
     ]
    }
   ],
   "source": [
    "print(games[5])"
   ]
  },
  {
   "cell_type": "code",
   "execution_count": 47,
   "metadata": {},
   "outputs": [],
   "source": [
    "# convert each position of a game to a dict with positions and evaluations\n",
    "import json\n",
    "\n",
    "def process_move(move_data: str):\n",
    "    # convert move of the form '1. e4 { [%eval 0.28] ' and return move and eval\n",
    "    move_data = move_data.split(\" { \")\n",
    "    move = move_data[0].split(\". \")[1].replace('?','').replace('!','')\n",
    "    eval = move_data[1].split(\"%eval \")[1].split(\"]\")[0].replace('#','')\n",
    "    return move, eval\n",
    "\n",
    "\n",
    "def convert_game_to_json(pgn_game: str) -> list[dict]:\n",
    "    # replace ... with _ for black moves to be able to split\n",
    "    splits = pgn_game.split(\"}\")\n",
    "    positions = []\n",
    "    for move_data in splits:\n",
    "        if '\\n' in move_data:\n",
    "            break\n",
    "        move, eval = process_move(move_data)\n",
    "        if (len(positions)>0):\n",
    "            move = positions[-1][\"moves\"] + \"_\" + move\n",
    "        positions.append({\"moves\": move, \"eval\": eval})\n",
    "    return positions\n",
    "\n",
    "convert_game_to_json(games[5])\n",
    "\n",
    "def convert_games_to_json(games: list[str]) -> list[dict]:\n",
    "    # convert each game to json\n",
    "    json_games = []\n",
    "    for game in games:\n",
    "        json_games+=convert_game_to_json(game)\n",
    "    with open('../data/positions.json', 'w') as outfile:\n",
    "        json.dump(json_games, outfile)\n",
    "    \n"
   ]
  },
  {
   "cell_type": "code",
   "execution_count": 50,
   "metadata": {},
   "outputs": [],
   "source": [
    "convert_games_to_json(games)"
   ]
  },
  {
   "cell_type": "markdown",
   "metadata": {},
   "source": [
    "### Tests with python chess library"
   ]
  },
  {
   "cell_type": "code",
   "execution_count": 55,
   "metadata": {},
   "outputs": [
    {
     "name": "stdout",
     "output_type": "stream",
     "text": [
      "rnbqkbnr/pppppppp/8/8/8/8/PPPPPPPP/RNBQKBNR w KQkq - 0 1\n"
     ]
    }
   ],
   "source": [
    "import chess\n",
    "\n",
    "board = chess.Board()\n",
    "\n",
    "print(board.fen())"
   ]
  },
  {
   "cell_type": "markdown",
   "metadata": {},
   "source": [
    "### Filter games with evaluation and dump to file"
   ]
  },
  {
   "cell_type": "code",
   "execution_count": 10,
   "metadata": {},
   "outputs": [],
   "source": [
    "file_path = '../data/data.pgn'\n",
    "save_path = '../data/eval_data.pgn'\n",
    "eval_file = ''\n",
    "eval_games = []\n",
    "with open(file_path, 'r') as f:\n",
    "    game_rows = []\n",
    "    for line in f:\n",
    "        game_rows.append(line)\n",
    "        if line[0] == '1':\n",
    "            if 'eval' in line:\n",
    "                if game_rows[0] == '\\n':\n",
    "                    game_rows.pop(0)\n",
    "                if game_rows[-1] != '\\n':\n",
    "                    game_rows.append('\\n')\n",
    "                eval_file += ''.join(game_rows)\n",
    "                eval_games.append(game_rows)\n",
    "            game_rows = []\n",
    "\n",
    "with open(save_path, 'w') as f:\n",
    "    f.write(eval_file)"
   ]
  },
  {
   "cell_type": "code",
   "execution_count": 27,
   "metadata": {},
   "outputs": [
    {
     "name": "stdout",
     "output_type": "stream",
     "text": [
      "1717\n"
     ]
    }
   ],
   "source": [
    "print(len(eval_games))"
   ]
  },
  {
   "cell_type": "code",
   "execution_count": 39,
   "metadata": {},
   "outputs": [],
   "source": [
    "import chess.pgn \n",
    "import json\n",
    "import csv\n",
    "\n",
    "def process_game(game: chess.pgn.Game):\n",
    "    positions = []\n",
    "    while not game.is_end():\n",
    "        game = game.variation(0)\n",
    "        fen = game.board().fen()\n",
    "        if game.eval() is not None:\n",
    "            if game.eval().is_mate():\n",
    "                eval = '#'+str(game.eval().relative.mate())\n",
    "            else:\n",
    "                eval = game.eval().relative.score()\n",
    "            positions.append({\"fen\": fen, \"eval\": eval})\n",
    "    return positions\n",
    "\n",
    "\n",
    "def dump_positions_csv(positions: list[dict]):\n",
    "    with open('../data/positions.csv', 'w', newline='') as csvfile:\n",
    "        fieldnames = ['fen', 'eval']\n",
    "        writer = csv.DictWriter(csvfile, fieldnames=fieldnames)\n",
    "        writer.writeheader()\n",
    "        for position in positions:\n",
    "            writer.writerow(position)\n",
    "    \n",
    "all_positions = []\n",
    "with open(\"../data/eval_data.pgn\") as pgn:\n",
    "    for i in range(1717):\n",
    "        game = chess.pgn.read_game(pgn)\n",
    "        if game is None:\n",
    "            break\n",
    "        positions = process_game(game)\n",
    "        all_positions += positions\n",
    "    dump_positions_csv(all_positions)\n",
    "      "
   ]
  },
  {
   "cell_type": "markdown",
   "metadata": {},
   "source": [
    "### Remove positions duplicates"
   ]
  },
  {
   "cell_type": "code",
   "execution_count": 2,
   "metadata": {},
   "outputs": [],
   "source": [
    "from more_itertools import unique_everseen\n",
    "with open('../data/positions.csv', 'r') as f, open('../data/positions_unique.csv', 'w') as out_file:\n",
    "    out_file.writelines(unique_everseen(f))\n",
    "            \n"
   ]
  },
  {
   "cell_type": "code",
   "execution_count": 5,
   "metadata": {},
   "outputs": [
    {
     "name": "stdout",
     "output_type": "stream",
     "text": [
      "['../data/raw_pgn\\\\data.pgn', '../data/raw_pgn\\\\lichess_Timdov_2023-07-23.pgn']\n"
     ]
    }
   ],
   "source": [
    "import os\n",
    "\n",
    "def get_all_files_in_dir(dir_path: str) -> list[str]:\n",
    "    files = []\n",
    "    for r, d, f in os.walk(dir_path):\n",
    "        for file in f:\n",
    "            if '.pgn' in file:\n",
    "                files.append(os.path.join(r, file))\n",
    "    return files\n",
    "\n",
    "print(get_all_files_in_dir('../data/raw_pgn'))"
   ]
  },
  {
   "cell_type": "markdown",
   "metadata": {},
   "source": [
    "## Decompress ZTS to PGN"
   ]
  },
  {
   "cell_type": "code",
   "execution_count": 7,
   "metadata": {},
   "outputs": [],
   "source": [
    "import zstandard as zstd\n",
    "dctx = zstd.ZstdDecompressor()\n",
    "submission_path_read = '../data/zst/data_2014_07.zst'\n",
    "submission_path_save = '../data/raw_pgn/data_2014_07.pgn'\n",
    "with open(submission_path_read, 'rb') as ifh, open(submission_path_save, 'wb') as ofh:\n",
    "    dctx.copy_stream(ifh, ofh, write_size=65536)"
   ]
  },
  {
   "cell_type": "code",
   "execution_count": 1,
   "metadata": {},
   "outputs": [
    {
     "name": "stdout",
     "output_type": "stream",
     "text": [
      "175033\n"
     ]
    }
   ],
   "source": [
    "def get_number_of_games_in_file(file_path: str) -> int:\n",
    "    nb_games = 0\n",
    "    with open(file_path) as pgn:\n",
    "        while True:\n",
    "            row = pgn.readline()\n",
    "            if row == '':\n",
    "                break\n",
    "            if row[0] == '1':\n",
    "                nb_games += 1\n",
    "    return nb_games\n",
    "\n",
    "print(get_number_of_games_in_file('../data/filtered_pgn/data_2014_07.pgn'))        \n"
   ]
  },
  {
   "cell_type": "code",
   "execution_count": 7,
   "metadata": {},
   "outputs": [
    {
     "data": {
      "text/plain": [
       "False"
      ]
     },
     "execution_count": 7,
     "metadata": {},
     "output_type": "execute_result"
    }
   ],
   "source": [
    "import pandas as pd\n",
    "df = pd.read_csv('../data/csv_positions/data_2013_09.csv')\n",
    "df.columns[0] == 'fen'"
   ]
  },
  {
   "cell_type": "code",
   "execution_count": 24,
   "metadata": {},
   "outputs": [
    {
     "name": "stdout",
     "output_type": "stream",
     "text": [
      ". . . . . . k .\n",
      ". . R . . p p .\n",
      "p . . . . . . .\n",
      ". p . . . . . p\n",
      ". . . . . . . .\n",
      "P P . . . P . .\n",
      ". . . r . . r P\n",
      ". . . . . K . .\n",
      "9993\n"
     ]
    }
   ],
   "source": [
    "import chess.pgn\n",
    "with open ('../data/filtered_pgn/data_2013_09.pgn') as pgn:\n",
    "    game = chess.pgn.read_game(pgn)\n",
    "\n",
    "while game.eval() is None or not game.eval().is_mate():\n",
    "    game = game.variation(0)\n",
    "print(game.board())\n",
    "print(game.eval().relative.score(mate_score=10000))"
   ]
  },
  {
   "cell_type": "code",
   "execution_count": 29,
   "metadata": {},
   "outputs": [
    {
     "data": {
      "text/plain": [
       "TensorShape([8, 8, 12])"
      ]
     },
     "execution_count": 29,
     "metadata": {},
     "output_type": "execute_result"
    }
   ],
   "source": [
    "pieces = ['r', 'n', 'b', 'q', 'k', 'p', 'R', 'N', 'B', 'Q', 'K', 'P']\n",
    "import tensorflow as tf\n",
    "import numpy as np\n",
    "def convert_fen_row_to_array(fen_row: str, piece: list[str]):\n",
    "        array = np.zeros(8, dtype=np.uint8)\n",
    "        idx = 0\n",
    "        for char in fen_row:\n",
    "            if char.isdigit():\n",
    "                idx += int(char)\n",
    "            elif char == piece:\n",
    "                array[idx] = 1\n",
    "                idx += 1\n",
    "            else:\n",
    "                idx += 1\n",
    "        return array\n",
    "\n",
    "def convert_fen_to_tensor(fen: str):\n",
    "    # environ 0.3 à 0.4ms par fen\n",
    "    game = fen.split(' ')[0]\n",
    "    rows = game.split('/')\n",
    "    tensor_array = np.zeros((12, 8, 8), dtype=np.uint8)\n",
    "    for piece_idx, piece in enumerate(pieces):\n",
    "        for row_idx, row in enumerate(rows):\n",
    "            tensor_array[piece_idx, row_idx, :] = convert_fen_row_to_array(row, piece)\n",
    "    # rehape to 8,8,12\n",
    "    tensor_array = np.moveaxis(tensor_array, 0, -1)\n",
    "    return tf.convert_to_tensor(tensor_array)\n",
    "\n",
    "fen_tensor = convert_fen_to_tensor('rnbqkbnr/pppppppp/8/8/4P3/8/PPPP1PPP/RNBQKBNR b KQkq - 0 1')\n",
    "fen_tensor.shape"
   ]
  },
  {
   "cell_type": "code",
   "execution_count": null,
   "metadata": {},
   "outputs": [],
   "source": [
    "import time\n",
    "from utils.converter import convert_fen_to_array\n",
    "time_start = time.time()\n",
    "for i in range(1000):\n",
    "    fen_tensor = convert_fen_to_array('rnbqkbnr/pppppppp/8/8/4P3/8/PPPP1PPP/RNBQKBNR b KQkq - 0 1')\n",
    "time_end = time.time()\n",
    "print(time_end - time_start)\n",
    "print(fen_tensor.shape)"
   ]
  }
 ],
 "metadata": {
  "kernelspec": {
   "display_name": "venv",
   "language": "python",
   "name": "python3"
  },
  "language_info": {
   "codemirror_mode": {
    "name": "ipython",
    "version": 3
   },
   "file_extension": ".py",
   "mimetype": "text/x-python",
   "name": "python",
   "nbconvert_exporter": "python",
   "pygments_lexer": "ipython3",
   "version": "3.10.8"
  },
  "orig_nbformat": 4,
  "vscode": {
   "interpreter": {
    "hash": "6c578f5360bbca6c8068a1a56523e7341b4bc2a7b5e7bfe31c6a4be70ac98702"
   }
  }
 },
 "nbformat": 4,
 "nbformat_minor": 2
}
